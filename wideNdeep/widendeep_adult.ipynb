{
 "cells": [
  {
   "cell_type": "code",
   "execution_count": 5,
   "metadata": {},
   "outputs": [],
   "source": [
    "import argparse\n",
    "\n",
    "from sklearn.preprocessing import MinMaxScaler\n",
    "import pandas as pd\n",
    "import numpy as np\n",
    "\n",
    "import tensorflow as tf\n",
    "\n",
    "from tensorflow.keras.models import Sequential, Model\n",
    "from tensorflow.keras.layers import Input, Dense, concatenate\n",
    "from tensorflow.keras.optimizers import Adam"
   ]
  },
  {
   "cell_type": "code",
   "execution_count": 6,
   "metadata": {},
   "outputs": [],
   "source": [
    "# pre-define about column info\n",
    "COLUMNS = [\"age\", \"workclass\", \"fnlwgt\", \"education\", \"education_num\", \"marital_status\",\n",
    "          \"occupation\", \"relationship\", \"race\", \"gender\", \"capital_gain\", \"capital_loss\", \"hours_per_week\", \"native_country\", \"income_bracket\"]\n",
    "LABEL_COLUMN = \"label\"\n",
    "CATEGORICAL_COLUMNS = [\"workclass\", \"education\", \"marital_status\", \"occupation\", \"relationship\", \"race\", \"gender\", \"native_country\"]\n",
    "NUMERICAL_COLUMNS = [\"age\", \"education_num\", \"capital_gain\", \"capital_loss\", \"hours_per_week\"]"
   ]
  },
  {
   "cell_type": "code",
   "execution_count": 7,
   "metadata": {
    "jupyter": {
     "source_hidden": true
    }
   },
   "outputs": [],
   "source": [
    "# class Deep:\n",
    "#     def __init__(self, args):\n",
    "#         self.learning_rate = args.learning_rate\n",
    "#         self.epochs = args.epochs\n",
    "#         self.batch_size = args.batch_size\n",
    "#         self.input_dim = args.input_dim\n",
    "#         self.model = self.classifier()\n",
    "\n",
    "#     def classifier(self):\n",
    "#         model = Sequential()\n",
    "#         model.add(Dense(100, activation='relu', input_dim=self.input_dim))\n",
    "#         model.add(Dense(50, activation='relu'))\n",
    "#         model.add(Dense(1, activation='sigmoid'))\n",
    "\n",
    "#         optimizer = Adam(lr=self.learning_rate, beta_1=0.9, beta_2=0.999)\n",
    "#         model.compile(loss='binary_crossentropy',\n",
    "#                       optimizer=optimizer,\n",
    "#                       metrics=['accuracy'])\n",
    "#         return model\n",
    "\n",
    "#     def fit(self, x, y):\n",
    "#         self.model.fit(x, y, epochs=self.epochs, batch_size=self.batch_size, validation_split=0.2)\n",
    "\n",
    "#     def print_performance(self, x, y):\n",
    "#         performance_test = self.model.evaluate(x, y, batch_size=self.batch_size)\n",
    "#         print('Test Loss and Accuracy ->', performance_test)\n",
    "        \n",
    "# class Wide:\n",
    "#     def __init__(self, args):\n",
    "#         self.learning_rate = args.learning_rate\n",
    "#         self.epochs = args.epochs\n",
    "#         self.batch_size = args.batch_size\n",
    "#         self.input_dim = args.input_dim\n",
    "#         self.model = self.classifier()\n",
    "\n",
    "#     def classifier(self):\n",
    "#         model = Sequential()\n",
    "#         model.add(Dense(1, activation='sigmoid', input_dim=self.input_dim))\n",
    "\n",
    "#         optimizer = Adam(lr=self.learning_rate, beta_1=0.9, beta_2=0.999)\n",
    "#         model.compile(loss='binary_crossentropy',\n",
    "#                       optimizer=optimizer,\n",
    "#                       metrics=['accuracy'])\n",
    "#         return model\n",
    "\n",
    "#     def fit(self, x, y):\n",
    "#         self.model.fit(x, y, epochs=self.epochs, batch_size=self.batch_size, validation_split=0.2)\n",
    "\n",
    "#     def print_performance(self, x, y):\n",
    "#         performance_test = self.model.evaluate(x, y, batch_size=self.batch_size)\n",
    "#         print('Test Loss and Accuracy ->', performance_test)"
   ]
  },
  {
   "cell_type": "code",
   "execution_count": 8,
   "metadata": {},
   "outputs": [],
   "source": [
    "class WideAndDeep:\n",
    "    def __init__(self, batch_size, learning_rate, epochs, input_dim):\n",
    "        self.learning_rate = learning_rate\n",
    "        self.epochs = epochs\n",
    "        self.batch_size = batch_size\n",
    "        self.input_dim = input_dim\n",
    "        self.model = self.classifier()\n",
    "\n",
    "    def classifier(self):\n",
    "        optimizer = Adam(lr=self.learning_rate, beta_1=0.9, beta_2=0.999)\n",
    "\n",
    "        # wide part\n",
    "        wide = Input(shape=(self.input_dim,))\n",
    "\n",
    "        # deep part\n",
    "        deep_input = Input(shape=(self.input_dim,))\n",
    "        deep = Dense(100, activation='relu')(deep_input)\n",
    "        deep = Dense(50, activation='relu')(deep)\n",
    "\n",
    "        # concatenate : wide and deep\n",
    "        wide_n_deep = concatenate([wide, deep])\n",
    "        wide_n_deep = Dense(1, activation='sigmoid')(wide_n_deep)\n",
    "        model = Model(inputs=[wide, deep_input], outputs=wide_n_deep)\n",
    "        model.compile(loss='binary_crossentropy',\n",
    "                      optimizer=optimizer,\n",
    "                      metrics=['accuracy'])\n",
    "        return model\n",
    "\n",
    "    def fit(self, wide_x, deep_x, y):\n",
    "        self.model.fit([wide_x, deep_x], y, epochs=self.epochs, batch_size=self.batch_size, validation_split=0.2)\n",
    "\n",
    "    def print_performance(self, wide_x, deep_x, y):\n",
    "        performance_test = self.model.evaluate([wide_x, deep_x], y, batch_size=self.batch_size)\n",
    "        print('Test Loss and Accuracy ->', performance_test)"
   ]
  },
  {
   "cell_type": "code",
   "execution_count": 9,
   "metadata": {},
   "outputs": [],
   "source": [
    "# def main(model_param):\n",
    "# prepare dataset\n",
    "df_train = pd.read_csv('http://archive.ics.uci.edu/ml/machine-learning-databases/adult/adult.data',\n",
    "                       header=None,\n",
    "                       names=COLUMNS,\n",
    "                       skipinitialspace=True)\n",
    "df_test = pd.read_csv('http://archive.ics.uci.edu/ml/machine-learning-databases/adult/adult.test',\n",
    "                      header=None,\n",
    "                      names=COLUMNS,\n",
    "                      skipinitialspace=True,\n",
    "                      skiprows=1)"
   ]
  },
  {
   "cell_type": "code",
   "execution_count": 16,
   "metadata": {},
   "outputs": [],
   "source": [
    "df = pd.concat([df_train, df_test])\n",
    "df[LABEL_COLUMN] = df['income_bracket'].apply(lambda x: \">50K\" in x).astype(int)\n",
    "y = df[LABEL_COLUMN].values\n",
    "df.pop(LABEL_COLUMN)\n",
    "df.pop(\"income_bracket\")\n",
    "df = pd.get_dummies(df, columns=[x for x in CATEGORICAL_COLUMNS])"
   ]
  },
  {
   "cell_type": "code",
   "execution_count": 18,
   "metadata": {},
   "outputs": [],
   "source": [
    "df = pd.DataFrame(MinMaxScaler().fit_transform(df), columns=df.columns)\n",
    "x = df.values\n",
    "\n",
    "# split train, test\n",
    "train_length = len(df_train)\n",
    "x_train = x[:train_length]\n",
    "y_train = y[:train_length]\n",
    "x_test = x[train_length:]\n",
    "y_test = y[train_length:]"
   ]
  },
  {
   "cell_type": "code",
   "execution_count": 20,
   "metadata": {},
   "outputs": [
    {
     "data": {
      "text/plain": [
       "array([[0.30136986, 0.04413121, 0.8       , ..., 1.        , 0.        ,\n",
       "        0.        ],\n",
       "       [0.45205479, 0.04805174, 0.8       , ..., 1.        , 0.        ,\n",
       "        0.        ],\n",
       "       [0.28767123, 0.13758131, 0.53333333, ..., 1.        , 0.        ,\n",
       "        0.        ],\n",
       "       ...,\n",
       "       [0.56164384, 0.09446153, 0.53333333, ..., 1.        , 0.        ,\n",
       "        0.        ],\n",
       "       [0.06849315, 0.12800425, 0.53333333, ..., 1.        , 0.        ,\n",
       "        0.        ],\n",
       "       [0.47945205, 0.18648211, 0.53333333, ..., 1.        , 0.        ,\n",
       "        0.        ]])"
      ]
     },
     "execution_count": 20,
     "metadata": {},
     "output_type": "execute_result"
    }
   ],
   "source": [
    "x_train"
   ]
  },
  {
   "cell_type": "code",
   "execution_count": 21,
   "metadata": {},
   "outputs": [
    {
     "name": "stdout",
     "output_type": "stream",
     "text": [
      "Epoch 1/30\n",
      "53/53 [==============================] - 0s 8ms/step - loss: 0.4804 - accuracy: 0.7682 - val_loss: 0.3971 - val_accuracy: 0.8119\n",
      "Epoch 2/30\n",
      "53/53 [==============================] - 0s 7ms/step - loss: 0.3714 - accuracy: 0.8287 - val_loss: 0.3553 - val_accuracy: 0.8346\n",
      "Epoch 3/30\n",
      "53/53 [==============================] - 0s 5ms/step - loss: 0.3489 - accuracy: 0.8365 - val_loss: 0.3440 - val_accuracy: 0.8397\n",
      "Epoch 4/30\n",
      "53/53 [==============================] - 0s 5ms/step - loss: 0.3393 - accuracy: 0.8399 - val_loss: 0.3369 - val_accuracy: 0.8437\n",
      "Epoch 5/30\n",
      "53/53 [==============================] - 0s 5ms/step - loss: 0.3345 - accuracy: 0.8451 - val_loss: 0.3333 - val_accuracy: 0.8446\n",
      "Epoch 6/30\n",
      "53/53 [==============================] - 0s 5ms/step - loss: 0.3274 - accuracy: 0.8467 - val_loss: 0.3325 - val_accuracy: 0.8460\n",
      "Epoch 7/30\n",
      "53/53 [==============================] - 0s 5ms/step - loss: 0.3238 - accuracy: 0.8488 - val_loss: 0.3316 - val_accuracy: 0.8452\n",
      "Epoch 8/30\n",
      "53/53 [==============================] - 0s 4ms/step - loss: 0.3199 - accuracy: 0.8502 - val_loss: 0.3268 - val_accuracy: 0.8495\n",
      "Epoch 9/30\n",
      "53/53 [==============================] - 0s 5ms/step - loss: 0.3176 - accuracy: 0.8510 - val_loss: 0.3255 - val_accuracy: 0.8445\n",
      "Epoch 10/30\n",
      "53/53 [==============================] - 0s 4ms/step - loss: 0.3130 - accuracy: 0.8544 - val_loss: 0.3230 - val_accuracy: 0.8509\n",
      "Epoch 11/30\n",
      "53/53 [==============================] - 0s 5ms/step - loss: 0.3094 - accuracy: 0.8555 - val_loss: 0.3207 - val_accuracy: 0.8480\n",
      "Epoch 12/30\n",
      "53/53 [==============================] - 0s 5ms/step - loss: 0.3073 - accuracy: 0.8574 - val_loss: 0.3338 - val_accuracy: 0.8437\n",
      "Epoch 13/30\n",
      "53/53 [==============================] - 0s 5ms/step - loss: 0.3044 - accuracy: 0.8584 - val_loss: 0.3241 - val_accuracy: 0.8460\n",
      "Epoch 14/30\n",
      "53/53 [==============================] - 0s 5ms/step - loss: 0.3017 - accuracy: 0.8598 - val_loss: 0.3205 - val_accuracy: 0.8474\n",
      "Epoch 15/30\n",
      "53/53 [==============================] - 0s 5ms/step - loss: 0.2992 - accuracy: 0.8601 - val_loss: 0.3203 - val_accuracy: 0.8509\n",
      "Epoch 16/30\n",
      "53/53 [==============================] - 0s 4ms/step - loss: 0.2979 - accuracy: 0.8615 - val_loss: 0.3208 - val_accuracy: 0.8520\n",
      "Epoch 17/30\n",
      "53/53 [==============================] - 0s 5ms/step - loss: 0.2949 - accuracy: 0.8621 - val_loss: 0.3205 - val_accuracy: 0.8497\n",
      "Epoch 18/30\n",
      "53/53 [==============================] - 0s 5ms/step - loss: 0.2943 - accuracy: 0.8638 - val_loss: 0.3230 - val_accuracy: 0.8480\n",
      "Epoch 19/30\n",
      "53/53 [==============================] - 0s 5ms/step - loss: 0.2917 - accuracy: 0.8638 - val_loss: 0.3214 - val_accuracy: 0.8469\n",
      "Epoch 20/30\n",
      "53/53 [==============================] - 0s 5ms/step - loss: 0.2904 - accuracy: 0.8649 - val_loss: 0.3266 - val_accuracy: 0.8468\n",
      "Epoch 21/30\n",
      "53/53 [==============================] - 0s 5ms/step - loss: 0.2896 - accuracy: 0.8646 - val_loss: 0.3232 - val_accuracy: 0.8472\n",
      "Epoch 22/30\n",
      "53/53 [==============================] - 0s 5ms/step - loss: 0.2873 - accuracy: 0.8662 - val_loss: 0.3223 - val_accuracy: 0.8503\n",
      "Epoch 23/30\n",
      "53/53 [==============================] - 0s 4ms/step - loss: 0.2856 - accuracy: 0.8683 - val_loss: 0.3243 - val_accuracy: 0.8492\n",
      "Epoch 24/30\n",
      "53/53 [==============================] - 0s 5ms/step - loss: 0.2841 - accuracy: 0.8687 - val_loss: 0.3240 - val_accuracy: 0.8468\n",
      "Epoch 25/30\n",
      "53/53 [==============================] - 0s 5ms/step - loss: 0.2838 - accuracy: 0.8672 - val_loss: 0.3249 - val_accuracy: 0.8445\n",
      "Epoch 26/30\n",
      "53/53 [==============================] - 0s 5ms/step - loss: 0.2826 - accuracy: 0.8682 - val_loss: 0.3268 - val_accuracy: 0.8469\n",
      "Epoch 27/30\n",
      "53/53 [==============================] - 0s 5ms/step - loss: 0.2818 - accuracy: 0.8690 - val_loss: 0.3291 - val_accuracy: 0.8462\n",
      "Epoch 28/30\n",
      "53/53 [==============================] - 0s 4ms/step - loss: 0.2802 - accuracy: 0.8703 - val_loss: 0.3293 - val_accuracy: 0.8485\n",
      "Epoch 29/30\n",
      "53/53 [==============================] - 0s 5ms/step - loss: 0.2784 - accuracy: 0.8702 - val_loss: 0.3283 - val_accuracy: 0.8466\n",
      "Epoch 30/30\n",
      "53/53 [==============================] - 0s 4ms/step - loss: 0.2786 - accuracy: 0.8714 - val_loss: 0.3328 - val_accuracy: 0.8483\n",
      "33/33 [==============================] - 0s 2ms/step - loss: 0.3336 - accuracy: 0.8491\n",
      "Test Loss and Accuracy -> [0.3335678279399872, 0.8490878939628601]\n"
     ]
    }
   ],
   "source": [
    "    # prepare hyper parameter\n",
    "#     parser = argparse.ArgumentParser()\n",
    "#     parser.add_argument('--batch_size', type=int, default=500,\n",
    "#                         help='Batch size for networks')\n",
    "#     parser.add_argument('--epochs', type=int, default=30,\n",
    "#                         help='Epochs for the networks')\n",
    "#     parser.add_argument('--learning_rate', type=float, default=0.001,\n",
    "#                         help='Learning rate')\n",
    "#     parser.add_argument('--input_dim', type=int, default=x_train.shape[1],\n",
    "#                         help='Input dimension for the generator.')\n",
    "#     args = parser.parse_args()\n",
    "\n",
    "#     if model_param == \"deep\":\n",
    "#         deep = Deep(args)\n",
    "#         deep.fit(x_train, y_train)\n",
    "#         deep.print_performance(x_test, y_test)\n",
    "#     elif model_param == 'wide':\n",
    "#         wide = Wide(args)\n",
    "#         wide.fit(x_train, y_train)\n",
    "#         wide.print_performance(x_test, y_test)\n",
    "#     else:\n",
    "wide_n_deep = WideAndDeep(batch_size = 500,\n",
    "                          learning_rate = 0.001,\n",
    "                         epochs = 30,\n",
    "                         input_dim = x_train.shape[1])\n",
    "wide_n_deep.fit(x_train, x_train, y_train)\n",
    "wide_n_deep.print_performance(x_test, x_test, y_test)"
   ]
  },
  {
   "cell_type": "code",
   "execution_count": 27,
   "metadata": {},
   "outputs": [
    {
     "name": "stdout",
     "output_type": "stream",
     "text": [
      "result predicted: 5.501997e-05\n",
      "result predicted: 0.0\n",
      "result real: 0\n"
     ]
    }
   ],
   "source": [
    "# prediction for individual\n",
    "x_predict_test = x_test[np.newaxis, 444, :]\n",
    "y_predict_test = y_test[444]\n",
    "result = wide_n_deep.model.predict([x_predict_test, x_predict_test])\n",
    "print('result predicted:', result[0][0])\n",
    "print('result predicted:', round(result[0][0]))\n",
    "print('result real:', y_predict_test)\n",
    "\n",
    "\n",
    "# if __name__ == '__main__':\n",
    "#     main('widendeep')"
   ]
  },
  {
   "cell_type": "code",
   "execution_count": null,
   "metadata": {},
   "outputs": [],
   "source": [
    "x_pred = x_test[np.newaxis, :, :]\n",
    "y_pred = "
   ]
  }
 ],
 "metadata": {
  "kernelspec": {
   "display_name": "Python 3",
   "language": "python",
   "name": "python3"
  },
  "language_info": {
   "codemirror_mode": {
    "name": "ipython",
    "version": 3
   },
   "file_extension": ".py",
   "mimetype": "text/x-python",
   "name": "python",
   "nbconvert_exporter": "python",
   "pygments_lexer": "ipython3",
   "version": "3.6.9"
  }
 },
 "nbformat": 4,
 "nbformat_minor": 4
}
