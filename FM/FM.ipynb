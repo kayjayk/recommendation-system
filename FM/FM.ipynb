{
 "cells": [
  {
   "cell_type": "code",
   "execution_count": null,
   "metadata": {},
   "outputs": [],
   "source": [
    "import os, json, glob, sys, math, numpy as np\n",
    "import pandas as pd\n",
    "import tensorflow as tf\n",
    "import pickle\n",
    "import matplotlib.pyplot as plt\n",
    "import time\n",
    "from time import strftime\n",
    "\n",
    "from tensorflow.keras.metrics import BinaryAccuracy\n",
    "from sklearn.preprocessing import MinMaxScaler\n",
    "from sklearn.model_selection import train_test_split"
   ]
  },
  {
   "cell_type": "code",
   "execution_count": null,
   "metadata": {},
   "outputs": [],
   "source": [
    "tf.enable_eager_execution()\n",
    "\n",
    "os.environ[\"CUDA_DEVICE_ORDER\"] = \"PCI_BUS_ID\"\n",
    "os.environ[\"CUDA_VISIBLE_DEVICES\"] = \"0\" # gpu number\n",
    "\n",
    "config = tf.ConfigProto()\n",
    "\n",
    "# use 30% memory of gpu\n",
    "config.gpu_options.per_process_gpu_memory_fraction = 0.3\n",
    "session = tf.Session(config=config)"
   ]
  },
  {
   "cell_type": "code",
   "execution_count": null,
   "metadata": {},
   "outputs": [],
   "source": [
    "* gpu 확인"
   ]
  },
  {
   "cell_type": "code",
   "execution_count": null,
   "metadata": {},
   "outputs": [],
   "source": [
    "tf.config.experimental_list_devices()"
   ]
  },
  {
   "cell_type": "code",
   "execution_count": null,
   "metadata": {},
   "outputs": [],
   "source": [
    "* 자료형 선언"
   ]
  },
  {
   "cell_type": "code",
   "execution_count": null,
   "metadata": {},
   "outputs": [],
   "source": [
    "tf.keras.backend.set_floatx('float32')"
   ]
  },
  {
   "cell_type": "code",
   "execution_count": null,
   "metadata": {},
   "outputs": [],
   "source": [
    "* load data (use built-in data of breast cancer)"
   ]
  },
  {
   "cell_type": "code",
   "execution_count": null,
   "metadata": {},
   "outputs": [],
   "source": [
    "from sklearn.datasets import load_breast_cancer\n",
    "\n",
    "scaler = MinMaxScaler()\n",
    "file = load_breast_cancer()\n",
    "X, Y = file['data'], file['target']\n",
    "X = scaler.fit_transform(X)"
   ]
  },
  {
   "cell_type": "code",
   "execution_count": null,
   "metadata": {},
   "outputs": [],
   "source": [
    "n = X.shape[0]\n",
    "p = X.shape[1]\n",
    "k = 10\n",
    "batch_size = 8\n",
    "epochs = 50"
   ]
  },
  {
   "cell_type": "code",
   "execution_count": null,
   "metadata": {},
   "outputs": [],
   "source": [
    "file.keys()\n",
    "\n",
    "print(file['data'].shape)\n",
    "print(file['target'].shape)"
   ]
  },
  {
   "cell_type": "code",
   "execution_count": null,
   "metadata": {},
   "outputs": [],
   "source": [
    "* FM Model"
   ]
  },
  {
   "cell_type": "code",
   "execution_count": null,
   "metadata": {},
   "outputs": [],
   "source": [
    "class FM(tf.keras.Model):\n",
    "    def __init__(self):\n",
    "        super(FM, self).__init__()\n",
    "        \n",
    "        self.w_0 = tf.Variable([0.0])\n",
    "        self.w = tf.Variable(tf.zeros([p]))\n",
    "        self.V = tf.Variable(tf.random.normal(shape=(p, k)))\n",
    "        \n",
    "    def call(self, inputs):\n",
    "        # p != n\n",
    "        # n : the num. of data\n",
    "        # p : the num. of features?\n",
    "        # w : 1 x p\n",
    "        # inputs : 1 or n x p\n",
    "        # V : p x k\n",
    "        \n",
    "        linear_terms = tf.reduce_sum(tf.math.multiply(self.w, inputs), axis=1)\n",
    "        \n",
    "        interactions = 0.5 * tf.reduce_sum(\n",
    "            tf.math.pow(tf.matmul(inputs, self.V), 2) # v * x 가 n^2개 있는데, 그걸 각각 제곱.\n",
    "            - tf.matmul(tf.math.pow(inputs, 2), tf.math.pow(self.V, 2)),\n",
    "        1,\n",
    "        keepdims=False\n",
    "        )\n",
    "        \n",
    "        y_hat = tf.math.sigmoid(self.w_0 + linear_terms + interactions)\n",
    "        \n",
    "        return y_hat"
   ]
  },
  {
   "cell_type": "code",
   "execution_count": null,
   "metadata": {},
   "outputs": [],
   "source": [
    "* Learning"
   ]
  },
  {
   "cell_type": "code",
   "execution_count": null,
   "metadata": {},
   "outputs": [],
   "source": [
    "def train_on_batch(model, optimizer, accuracy, inputs, targets):\n",
    "    with tf.GradientTape() as tape:\n",
    "        y_pred = model(inputs)\n",
    "        loss = tf.keras.losses.binary_crossentropy(from_logits=False,\n",
    "                                                  y_true=targets,\n",
    "                                                  y_pred=y_pred)\n",
    "        \n",
    "        grads = tape.gradient(target=loss, sources=model.trainable_variables)\n",
    "        \n",
    "        # apply_gradients()를 통해 processed gradients 적용 (optimization)\n",
    "        optimizer.apply_gradients(zip(grads, model.trainable_variables))\n",
    "        \n",
    "        # update 마다 accuracy 누적하여 계산. (loss와 별개로..? 계산)\n",
    "        accuracy.update_state(targets, y_pred)\n",
    "        \n",
    "        return loss\n",
    "    \n",
    "def train(epochs):\n",
    "    X_train, X_test, Y_train, Y_test = train_test_split(X, Y, test_size=0.2, stratify=Y)\n",
    "    \n",
    "    train_ds = tf.data.Dataset.from_tensor_slices(\n",
    "    (tf.cast(X_train, tf.float32), tf.cast(Y_train, tf.float32))).shuffle(500).batch(8)\n",
    "\n",
    "    test_ds = tf.data.Dataset.from_tensor_slices(\n",
    "    (tf.cast(X_test, tf.float32), tf.cast(Y_test, tf.float32))).shuffle(200).batch(8)\n",
    "    \n",
    "    model = FM()\n",
    "    optimizer = tf.keras.optimizers.SGD(learning_rate=0.01)\n",
    "    accuracy = BinaryAccuracy(threshold=0.5)\n",
    "    loss_history = []\n",
    "    \n",
    "    for i in range(epochs):\n",
    "        for x, y in train_ds:\n",
    "            loss = train_on_batch(model, optimizer, accuracy, x, y)\n",
    "            loss_history.append(loss)\n",
    "            \n",
    "        if i % 2 == 0:\n",
    "            print(\"Step {:03d}, Cumulative mean loss: {:.4f}, Cumulative accuracy: {:.4f}\".format(i, np.mean(loss_history), accuracy.result().numpy()))\n",
    "            \n",
    "    test_accuracy = BinaryAccuracy(threshold=0.5)\n",
    "    for x, y in test_ds:\n",
    "        y_pred = model(x)\n",
    "        test_accuracy.update_state(y, y_pred)\n",
    "        \n",
    "    print(\"Test Accuracy: {:.4f}\".format(test_accuracy.result().numpy()))"
   ]
  },
  {
   "cell_type": "code",
   "execution_count": null,
   "metadata": {},
   "outputs": [],
   "source": [
    "train(epochs)"
   ]
  }
 ],
 "metadata": {
  "kernelspec": {
   "display_name": "Python 3",
   "language": "python",
   "name": "python3"
  },
  "language_info": {
   "codemirror_mode": {
    "name": "ipython",
    "version": 3
   },
   "file_extension": ".py",
   "mimetype": "text/x-python",
   "name": "python",
   "nbconvert_exporter": "python",
   "pygments_lexer": "ipython3",
   "version": "3.6.9"
  }
 },
 "nbformat": 4,
 "nbformat_minor": 4
}
