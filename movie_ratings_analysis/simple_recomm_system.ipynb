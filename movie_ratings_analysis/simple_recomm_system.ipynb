{
  "cells": [
    {
      "metadata": {
        "trusted": true,
        "scrolled": false
      },
      "cell_type": "code",
      "source": "import pandas as pd\nimport numpy as np\nfrom matplotlib import pyplot as plt\nfrom sklearn.metrics import mean_squared_error\nfrom sklearn.model_selection import train_test_split",
      "execution_count": 22,
      "outputs": []
    },
    {
      "metadata": {
        "trusted": true
      },
      "cell_type": "code",
      "source": "ratings = pd.read_pickle('../data/ml-latest-small/ratings_concat.p')",
      "execution_count": 4,
      "outputs": []
    },
    {
      "metadata": {
        "trusted": true,
        "scrolled": true
      },
      "cell_type": "code",
      "source": "ratings.head()",
      "execution_count": 5,
      "outputs": [
        {
          "output_type": "execute_result",
          "execution_count": 5,
          "data": {
            "text/html": "<div>\n<style scoped>\n    .dataframe tbody tr th:only-of-type {\n        vertical-align: middle;\n    }\n\n    .dataframe tbody tr th {\n        vertical-align: top;\n    }\n\n    .dataframe thead th {\n        text-align: right;\n    }\n</style>\n<table border=\"1\" class=\"dataframe\">\n  <thead>\n    <tr style=\"text-align: right;\">\n      <th></th>\n      <th>userId</th>\n      <th>movieId</th>\n      <th>rating</th>\n      <th>timestamp</th>\n    </tr>\n  </thead>\n  <tbody>\n    <tr>\n      <th>0</th>\n      <td>1</td>\n      <td>1</td>\n      <td>4.0</td>\n      <td>2000-07-30 18:45:03</td>\n    </tr>\n    <tr>\n      <th>1</th>\n      <td>1</td>\n      <td>3</td>\n      <td>4.0</td>\n      <td>2000-07-30 18:20:47</td>\n    </tr>\n    <tr>\n      <th>2</th>\n      <td>1</td>\n      <td>6</td>\n      <td>4.0</td>\n      <td>2000-07-30 18:37:04</td>\n    </tr>\n    <tr>\n      <th>3</th>\n      <td>1</td>\n      <td>47</td>\n      <td>5.0</td>\n      <td>2000-07-30 19:03:35</td>\n    </tr>\n    <tr>\n      <th>4</th>\n      <td>1</td>\n      <td>50</td>\n      <td>5.0</td>\n      <td>2000-07-30 18:48:51</td>\n    </tr>\n  </tbody>\n</table>\n</div>",
            "text/plain": "   userId  movieId  rating            timestamp\n0       1        1     4.0  2000-07-30 18:45:03\n1       1        3     4.0  2000-07-30 18:20:47\n2       1        6     4.0  2000-07-30 18:37:04\n3       1       47     5.0  2000-07-30 19:03:35\n4       1       50     5.0  2000-07-30 18:48:51"
          },
          "metadata": {}
        }
      ]
    },
    {
      "metadata": {
        "trusted": true
      },
      "cell_type": "code",
      "source": "train, test = train_test_split(ratings, random_state=4444)",
      "execution_count": 7,
      "outputs": []
    },
    {
      "metadata": {
        "trusted": true
      },
      "cell_type": "code",
      "source": "print(train.shape)\nprint(test.shape)",
      "execution_count": 8,
      "outputs": [
        {
          "output_type": "stream",
          "text": "(75636, 4)\n(25212, 4)\n",
          "name": "stdout"
        }
      ]
    },
    {
      "metadata": {},
      "cell_type": "markdown",
      "source": "* predict all scores as 0.5"
    },
    {
      "metadata": {
        "trusted": true
      },
      "cell_type": "code",
      "source": "predictions = [0.5] * len(test)",
      "execution_count": 9,
      "outputs": []
    },
    {
      "metadata": {
        "trusted": true
      },
      "cell_type": "code",
      "source": "mse = mean_squared_error(test['rating'], predictions)\nrmse = np.sqrt(mse)\nrmse",
      "execution_count": 15,
      "outputs": [
        {
          "output_type": "execute_result",
          "execution_count": 15,
          "data": {
            "text/plain": "3.1786973884126466"
          },
          "metadata": {}
        }
      ]
    },
    {
      "metadata": {},
      "cell_type": "markdown",
      "source": "* predict all scores as 5.0"
    },
    {
      "metadata": {
        "trusted": true
      },
      "cell_type": "code",
      "source": "predictions = [5] * len(test)\nmse = mean_squared_error(test['rating'], predictions)\nrmse = np.sqrt(mse)\nrmse",
      "execution_count": 19,
      "outputs": [
        {
          "output_type": "execute_result",
          "execution_count": 19,
          "data": {
            "text/plain": "1.8170421225723647"
          },
          "metadata": {}
        }
      ]
    },
    {
      "metadata": {},
      "cell_type": "markdown",
      "source": "* why perform better when predict all socres as 5"
    },
    {
      "metadata": {
        "trusted": true
      },
      "cell_type": "code",
      "source": "print(test.rating.mean())\nprint(test.rating.median())\ntest.rating.hist()",
      "execution_count": 26,
      "outputs": [
        {
          "output_type": "stream",
          "text": "3.5058305568776773\n3.5\n",
          "name": "stdout"
        },
        {
          "output_type": "execute_result",
          "execution_count": 26,
          "data": {
            "text/plain": "<matplotlib.axes._subplots.AxesSubplot at 0x7f37070da748>"
          },
          "metadata": {}
        },
        {
          "output_type": "display_data",
          "data": {
            "image/png": "[encoded data removed]",
            "text/plain": "<Figure size 432x288 with 1 Axes>"
          },
          "metadata": {
            "needs_background": "light"
          }
        }
      ]
    },
    {
      "metadata": {},
      "cell_type": "markdown",
      "source": "* predict all scores as the mean of all ratings.."
    },
    {
      "metadata": {
        "trusted": true
      },
      "cell_type": "code",
      "source": "predictions = len(test) * [train.rating.mean()]\nmse = mean_squared_error(test['rating'], predictions)\nrmse = np.sqrt(mse)\nrmse",
      "execution_count": 32,
      "outputs": [
        {
          "output_type": "execute_result",
          "execution_count": 32,
          "data": {
            "text/plain": "1.0339879957681537"
          },
          "metadata": {}
        }
      ]
    },
    {
      "metadata": {},
      "cell_type": "markdown",
      "source": "* predict all scores as the mean of ratings by users"
    },
    {
      "metadata": {
        "trusted": true
      },
      "cell_type": "code",
      "source": "sum_of_ratings_by_users = ratings.groupby('userId')\n\nmeans_of_ratings_by_users = sum_of_ratings_by_users.mean()\n\nmeans_of_ratings_by_users.rename(columns={'rating':'mean_rating'}, inplace=True)\n\nmeans_of_ratings_by_users = means_of_ratings_by_users.drop('movieId', axis=1)",
      "execution_count": 70,
      "outputs": []
    },
    {
      "metadata": {
        "trusted": true,
        "scrolled": true
      },
      "cell_type": "code",
      "source": "means_of_ratings_by_users",
      "execution_count": 78,
      "outputs": [
        {
          "output_type": "execute_result",
          "execution_count": 78,
          "data": {
            "text/html": "<div>\n<style scoped>\n    .dataframe tbody tr th:only-of-type {\n        vertical-align: middle;\n    }\n\n    .dataframe tbody tr th {\n        vertical-align: top;\n    }\n\n    .dataframe thead th {\n        text-align: right;\n    }\n</style>\n<table border=\"1\" class=\"dataframe\">\n  <thead>\n    <tr style=\"text-align: right;\">\n      <th></th>\n      <th>mean_rating</th>\n    </tr>\n    <tr>\n      <th>userId</th>\n      <th></th>\n    </tr>\n  </thead>\n  <tbody>\n    <tr>\n      <th>1</th>\n      <td>4.366379</td>\n    </tr>\n    <tr>\n      <th>2</th>\n      <td>3.948276</td>\n    </tr>\n    <tr>\n      <th>3</th>\n      <td>2.435897</td>\n    </tr>\n    <tr>\n      <th>4</th>\n      <td>3.555556</td>\n    </tr>\n    <tr>\n      <th>5</th>\n      <td>3.636364</td>\n    </tr>\n    <tr>\n      <th>6</th>\n      <td>3.493631</td>\n    </tr>\n    <tr>\n      <th>7</th>\n      <td>3.230263</td>\n    </tr>\n    <tr>\n      <th>8</th>\n      <td>3.574468</td>\n    </tr>\n    <tr>\n      <th>9</th>\n      <td>3.260870</td>\n    </tr>\n    <tr>\n      <th>10</th>\n      <td>3.278571</td>\n    </tr>\n    <tr>\n      <th>11</th>\n      <td>3.781250</td>\n    </tr>\n    <tr>\n      <th>12</th>\n      <td>4.390625</td>\n    </tr>\n    <tr>\n      <th>13</th>\n      <td>3.645161</td>\n    </tr>\n    <tr>\n      <th>14</th>\n      <td>3.395833</td>\n    </tr>\n    <tr>\n      <th>15</th>\n      <td>3.448148</td>\n    </tr>\n    <tr>\n      <th>16</th>\n      <td>3.724490</td>\n    </tr>\n    <tr>\n      <th>17</th>\n      <td>4.209524</td>\n    </tr>\n    <tr>\n      <th>18</th>\n      <td>3.732072</td>\n    </tr>\n    <tr>\n      <th>19</th>\n      <td>2.607397</td>\n    </tr>\n    <tr>\n      <th>20</th>\n      <td>3.590909</td>\n    </tr>\n    <tr>\n      <th>21</th>\n      <td>3.260722</td>\n    </tr>\n    <tr>\n      <th>22</th>\n      <td>2.571429</td>\n    </tr>\n    <tr>\n      <th>23</th>\n      <td>3.648760</td>\n    </tr>\n    <tr>\n      <th>24</th>\n      <td>3.650000</td>\n    </tr>\n    <tr>\n      <th>25</th>\n      <td>4.807692</td>\n    </tr>\n    <tr>\n      <th>26</th>\n      <td>3.238095</td>\n    </tr>\n    <tr>\n      <th>27</th>\n      <td>3.548148</td>\n    </tr>\n    <tr>\n      <th>28</th>\n      <td>3.020175</td>\n    </tr>\n    <tr>\n      <th>29</th>\n      <td>4.141975</td>\n    </tr>\n    <tr>\n      <th>30</th>\n      <td>4.735294</td>\n    </tr>\n    <tr>\n      <th>...</th>\n      <td>...</td>\n    </tr>\n    <tr>\n      <th>582</th>\n      <td>4.026786</td>\n    </tr>\n    <tr>\n      <th>583</th>\n      <td>3.294643</td>\n    </tr>\n    <tr>\n      <th>584</th>\n      <td>4.108434</td>\n    </tr>\n    <tr>\n      <th>585</th>\n      <td>4.336066</td>\n    </tr>\n    <tr>\n      <th>586</th>\n      <td>4.365385</td>\n    </tr>\n    <tr>\n      <th>587</th>\n      <td>3.975758</td>\n    </tr>\n    <tr>\n      <th>588</th>\n      <td>3.250000</td>\n    </tr>\n    <tr>\n      <th>589</th>\n      <td>4.025000</td>\n    </tr>\n    <tr>\n      <th>590</th>\n      <td>3.355769</td>\n    </tr>\n    <tr>\n      <th>591</th>\n      <td>3.277778</td>\n    </tr>\n    <tr>\n      <th>592</th>\n      <td>3.585106</td>\n    </tr>\n    <tr>\n      <th>593</th>\n      <td>3.266990</td>\n    </tr>\n    <tr>\n      <th>594</th>\n      <td>3.924569</td>\n    </tr>\n    <tr>\n      <th>595</th>\n      <td>4.200000</td>\n    </tr>\n    <tr>\n      <th>596</th>\n      <td>3.495134</td>\n    </tr>\n    <tr>\n      <th>597</th>\n      <td>3.977427</td>\n    </tr>\n    <tr>\n      <th>598</th>\n      <td>3.809524</td>\n    </tr>\n    <tr>\n      <th>599</th>\n      <td>2.642050</td>\n    </tr>\n    <tr>\n      <th>600</th>\n      <td>2.991481</td>\n    </tr>\n    <tr>\n      <th>601</th>\n      <td>4.425743</td>\n    </tr>\n    <tr>\n      <th>602</th>\n      <td>3.392593</td>\n    </tr>\n    <tr>\n      <th>603</th>\n      <td>3.507953</td>\n    </tr>\n    <tr>\n      <th>604</th>\n      <td>3.480000</td>\n    </tr>\n    <tr>\n      <th>605</th>\n      <td>3.210407</td>\n    </tr>\n    <tr>\n      <th>606</th>\n      <td>3.657399</td>\n    </tr>\n    <tr>\n      <th>607</th>\n      <td>3.786096</td>\n    </tr>\n    <tr>\n      <th>608</th>\n      <td>3.134176</td>\n    </tr>\n    <tr>\n      <th>609</th>\n      <td>3.270270</td>\n    </tr>\n    <tr>\n      <th>610</th>\n      <td>3.688556</td>\n    </tr>\n    <tr>\n      <th>1000</th>\n      <td>4.083333</td>\n    </tr>\n  </tbody>\n</table>\n<p>611 rows × 1 columns</p>\n</div>",
            "text/plain": "        mean_rating\nuserId             \n1          4.366379\n2          3.948276\n3          2.435897\n4          3.555556\n5          3.636364\n6          3.493631\n7          3.230263\n8          3.574468\n9          3.260870\n10         3.278571\n11         3.781250\n12         4.390625\n13         3.645161\n14         3.395833\n15         3.448148\n16         3.724490\n17         4.209524\n18         3.732072\n19         2.607397\n20         3.590909\n21         3.260722\n22         2.571429\n23         3.648760\n24         3.650000\n25         4.807692\n26         3.238095\n27         3.548148\n28         3.020175\n29         4.141975\n30         4.735294\n...             ...\n582        4.026786\n583        3.294643\n584        4.108434\n585        4.336066\n586        4.365385\n587        3.975758\n588        3.250000\n589        4.025000\n590        3.355769\n591        3.277778\n592        3.585106\n593        3.266990\n594        3.924569\n595        4.200000\n596        3.495134\n597        3.977427\n598        3.809524\n599        2.642050\n600        2.991481\n601        4.425743\n602        3.392593\n603        3.507953\n604        3.480000\n605        3.210407\n606        3.657399\n607        3.786096\n608        3.134176\n609        3.270270\n610        3.688556\n1000       4.083333\n\n[611 rows x 1 columns]"
          },
          "metadata": {}
        }
      ]
    },
    {
      "metadata": {
        "trusted": true
      },
      "cell_type": "code",
      "source": "merged = pd.merge(test, means_of_ratings_by_users, how='left', on='userId')",
      "execution_count": null,
      "outputs": []
    },
    {
      "metadata": {
        "trusted": true,
        "scrolled": true
      },
      "cell_type": "code",
      "source": "merged[merged[\"userId\"]==1]",
      "execution_count": 85,
      "outputs": [
        {
          "output_type": "execute_result",
          "execution_count": 85,
          "data": {
            "text/html": "<div>\n<style scoped>\n    .dataframe tbody tr th:only-of-type {\n        vertical-align: middle;\n    }\n\n    .dataframe tbody tr th {\n        vertical-align: top;\n    }\n\n    .dataframe thead th {\n        text-align: right;\n    }\n</style>\n<table border=\"1\" class=\"dataframe\">\n  <thead>\n    <tr style=\"text-align: right;\">\n      <th></th>\n      <th>userId</th>\n      <th>movieId</th>\n      <th>rating</th>\n      <th>timestamp</th>\n      <th>mean_rating</th>\n    </tr>\n  </thead>\n  <tbody>\n    <tr>\n      <th>388</th>\n      <td>1</td>\n      <td>423</td>\n      <td>3.0</td>\n      <td>2000-07-30 18:39:23</td>\n      <td>4.366379</td>\n    </tr>\n    <tr>\n      <th>1356</th>\n      <td>1</td>\n      <td>2099</td>\n      <td>4.0</td>\n      <td>2000-07-30 18:43:08</td>\n      <td>4.366379</td>\n    </tr>\n    <tr>\n      <th>1839</th>\n      <td>1</td>\n      <td>356</td>\n      <td>4.0</td>\n      <td>2000-07-30 18:16:02</td>\n      <td>4.366379</td>\n    </tr>\n    <tr>\n      <th>1943</th>\n      <td>1</td>\n      <td>3793</td>\n      <td>5.0</td>\n      <td>2000-07-30 18:30:55</td>\n      <td>4.366379</td>\n    </tr>\n    <tr>\n      <th>4039</th>\n      <td>1</td>\n      <td>804</td>\n      <td>4.0</td>\n      <td>2000-07-30 18:08:19</td>\n      <td>4.366379</td>\n    </tr>\n    <tr>\n      <th>4138</th>\n      <td>1</td>\n      <td>543</td>\n      <td>4.0</td>\n      <td>2000-07-30 18:19:39</td>\n      <td>4.366379</td>\n    </tr>\n    <tr>\n      <th>4434</th>\n      <td>1</td>\n      <td>1029</td>\n      <td>5.0</td>\n      <td>2000-07-30 18:47:35</td>\n      <td>4.366379</td>\n    </tr>\n    <tr>\n      <th>5022</th>\n      <td>1</td>\n      <td>1032</td>\n      <td>5.0</td>\n      <td>2000-07-30 18:46:31</td>\n      <td>4.366379</td>\n    </tr>\n    <tr>\n      <th>5297</th>\n      <td>1</td>\n      <td>2571</td>\n      <td>5.0</td>\n      <td>2000-07-30 18:31:28</td>\n      <td>4.366379</td>\n    </tr>\n    <tr>\n      <th>6055</th>\n      <td>1</td>\n      <td>2648</td>\n      <td>4.0</td>\n      <td>2000-07-30 18:56:54</td>\n      <td>4.366379</td>\n    </tr>\n    <tr>\n      <th>6436</th>\n      <td>1</td>\n      <td>1445</td>\n      <td>3.0</td>\n      <td>2000-07-30 19:08:32</td>\n      <td>4.366379</td>\n    </tr>\n    <tr>\n      <th>6756</th>\n      <td>1</td>\n      <td>3147</td>\n      <td>5.0</td>\n      <td>2000-07-30 19:04:33</td>\n      <td>4.366379</td>\n    </tr>\n    <tr>\n      <th>6972</th>\n      <td>1</td>\n      <td>2054</td>\n      <td>4.0</td>\n      <td>2000-07-30 18:29:07</td>\n      <td>4.366379</td>\n    </tr>\n    <tr>\n      <th>7057</th>\n      <td>1</td>\n      <td>2948</td>\n      <td>5.0</td>\n      <td>2000-07-30 18:36:31</td>\n      <td>4.366379</td>\n    </tr>\n    <tr>\n      <th>7122</th>\n      <td>1</td>\n      <td>367</td>\n      <td>4.0</td>\n      <td>2000-07-30 18:28:30</td>\n      <td>4.366379</td>\n    </tr>\n    <tr>\n      <th>7632</th>\n      <td>1</td>\n      <td>1408</td>\n      <td>3.0</td>\n      <td>2000-07-30 18:38:30</td>\n      <td>4.366379</td>\n    </tr>\n    <tr>\n      <th>7803</th>\n      <td>1</td>\n      <td>2093</td>\n      <td>3.0</td>\n      <td>2000-07-30 18:28:30</td>\n      <td>4.366379</td>\n    </tr>\n    <tr>\n      <th>7876</th>\n      <td>1</td>\n      <td>1617</td>\n      <td>5.0</td>\n      <td>2000-07-30 18:49:11</td>\n      <td>4.366379</td>\n    </tr>\n    <tr>\n      <th>8693</th>\n      <td>1</td>\n      <td>151</td>\n      <td>5.0</td>\n      <td>2000-07-30 19:07:21</td>\n      <td>4.366379</td>\n    </tr>\n    <tr>\n      <th>9322</th>\n      <td>1</td>\n      <td>596</td>\n      <td>5.0</td>\n      <td>2000-07-30 18:47:18</td>\n      <td>4.366379</td>\n    </tr>\n    <tr>\n      <th>9356</th>\n      <td>1</td>\n      <td>2858</td>\n      <td>5.0</td>\n      <td>2000-07-30 18:14:28</td>\n      <td>4.366379</td>\n    </tr>\n    <tr>\n      <th>10027</th>\n      <td>1</td>\n      <td>3247</td>\n      <td>3.0</td>\n      <td>2000-07-30 18:51:48</td>\n      <td>4.366379</td>\n    </tr>\n    <tr>\n      <th>10345</th>\n      <td>1</td>\n      <td>2949</td>\n      <td>5.0</td>\n      <td>2000-07-30 18:31:28</td>\n      <td>4.366379</td>\n    </tr>\n    <tr>\n      <th>11270</th>\n      <td>1</td>\n      <td>2078</td>\n      <td>5.0</td>\n      <td>2000-07-30 18:47:18</td>\n      <td>4.366379</td>\n    </tr>\n    <tr>\n      <th>11317</th>\n      <td>1</td>\n      <td>457</td>\n      <td>5.0</td>\n      <td>2000-07-30 18:31:49</td>\n      <td>4.366379</td>\n    </tr>\n    <tr>\n      <th>11548</th>\n      <td>1</td>\n      <td>1136</td>\n      <td>5.0</td>\n      <td>2000-07-30 18:22:07</td>\n      <td>4.366379</td>\n    </tr>\n    <tr>\n      <th>11797</th>\n      <td>1</td>\n      <td>2502</td>\n      <td>5.0</td>\n      <td>2000-07-30 18:21:18</td>\n      <td>4.366379</td>\n    </tr>\n    <tr>\n      <th>13228</th>\n      <td>1</td>\n      <td>441</td>\n      <td>4.0</td>\n      <td>2000-07-30 18:14:28</td>\n      <td>4.366379</td>\n    </tr>\n    <tr>\n      <th>13811</th>\n      <td>1</td>\n      <td>553</td>\n      <td>5.0</td>\n      <td>2000-07-30 19:09:13</td>\n      <td>4.366379</td>\n    </tr>\n    <tr>\n      <th>14088</th>\n      <td>1</td>\n      <td>101</td>\n      <td>5.0</td>\n      <td>2000-07-30 18:14:28</td>\n      <td>4.366379</td>\n    </tr>\n    <tr>\n      <th>15056</th>\n      <td>1</td>\n      <td>2141</td>\n      <td>5.0</td>\n      <td>2000-07-30 18:47:18</td>\n      <td>4.366379</td>\n    </tr>\n    <tr>\n      <th>15233</th>\n      <td>1</td>\n      <td>2161</td>\n      <td>5.0</td>\n      <td>2000-07-30 18:28:30</td>\n      <td>4.366379</td>\n    </tr>\n    <tr>\n      <th>15256</th>\n      <td>1</td>\n      <td>1580</td>\n      <td>3.0</td>\n      <td>2000-07-30 18:18:45</td>\n      <td>4.366379</td>\n    </tr>\n    <tr>\n      <th>16150</th>\n      <td>1</td>\n      <td>2116</td>\n      <td>5.0</td>\n      <td>2000-07-30 18:47:56</td>\n      <td>4.366379</td>\n    </tr>\n    <tr>\n      <th>16174</th>\n      <td>1</td>\n      <td>1060</td>\n      <td>4.0</td>\n      <td>2000-07-30 18:15:24</td>\n      <td>4.366379</td>\n    </tr>\n    <tr>\n      <th>16206</th>\n      <td>1</td>\n      <td>2997</td>\n      <td>4.0</td>\n      <td>2000-07-30 18:14:56</td>\n      <td>4.366379</td>\n    </tr>\n    <tr>\n      <th>16558</th>\n      <td>1</td>\n      <td>2193</td>\n      <td>4.0</td>\n      <td>2000-07-30 18:28:30</td>\n      <td>4.366379</td>\n    </tr>\n    <tr>\n      <th>16679</th>\n      <td>1</td>\n      <td>2268</td>\n      <td>4.0</td>\n      <td>2000-07-30 18:49:49</td>\n      <td>4.366379</td>\n    </tr>\n    <tr>\n      <th>17577</th>\n      <td>1</td>\n      <td>1214</td>\n      <td>4.0</td>\n      <td>2000-07-30 18:30:55</td>\n      <td>4.366379</td>\n    </tr>\n    <tr>\n      <th>18756</th>\n      <td>1</td>\n      <td>2644</td>\n      <td>4.0</td>\n      <td>2000-07-30 18:56:33</td>\n      <td>4.366379</td>\n    </tr>\n    <tr>\n      <th>19172</th>\n      <td>1</td>\n      <td>2094</td>\n      <td>5.0</td>\n      <td>2000-07-30 18:44:13</td>\n      <td>4.366379</td>\n    </tr>\n    <tr>\n      <th>20056</th>\n      <td>1</td>\n      <td>2761</td>\n      <td>5.0</td>\n      <td>2000-07-30 18:45:03</td>\n      <td>4.366379</td>\n    </tr>\n    <tr>\n      <th>20274</th>\n      <td>1</td>\n      <td>1256</td>\n      <td>5.0</td>\n      <td>2000-07-30 18:24:02</td>\n      <td>4.366379</td>\n    </tr>\n    <tr>\n      <th>22050</th>\n      <td>1</td>\n      <td>1473</td>\n      <td>4.0</td>\n      <td>2000-07-30 18:14:35</td>\n      <td>4.366379</td>\n    </tr>\n    <tr>\n      <th>22073</th>\n      <td>1</td>\n      <td>480</td>\n      <td>4.0</td>\n      <td>2000-07-30 18:39:06</td>\n      <td>4.366379</td>\n    </tr>\n    <tr>\n      <th>22203</th>\n      <td>1</td>\n      <td>2459</td>\n      <td>5.0</td>\n      <td>2000-07-30 18:56:54</td>\n      <td>4.366379</td>\n    </tr>\n    <tr>\n      <th>22945</th>\n      <td>1</td>\n      <td>593</td>\n      <td>4.0</td>\n      <td>2000-07-30 19:03:13</td>\n      <td>4.366379</td>\n    </tr>\n    <tr>\n      <th>23022</th>\n      <td>1</td>\n      <td>2338</td>\n      <td>2.0</td>\n      <td>2000-07-30 18:59:06</td>\n      <td>4.366379</td>\n    </tr>\n    <tr>\n      <th>23170</th>\n      <td>1</td>\n      <td>2048</td>\n      <td>5.0</td>\n      <td>2000-07-30 18:46:31</td>\n      <td>4.366379</td>\n    </tr>\n    <tr>\n      <th>23745</th>\n      <td>1</td>\n      <td>2654</td>\n      <td>5.0</td>\n      <td>2000-07-30 18:56:33</td>\n      <td>4.366379</td>\n    </tr>\n    <tr>\n      <th>23758</th>\n      <td>1</td>\n      <td>2826</td>\n      <td>4.0</td>\n      <td>2000-07-30 18:08:43</td>\n      <td>4.366379</td>\n    </tr>\n    <tr>\n      <th>24014</th>\n      <td>1</td>\n      <td>1089</td>\n      <td>5.0</td>\n      <td>2000-07-30 18:49:11</td>\n      <td>4.366379</td>\n    </tr>\n    <tr>\n      <th>24085</th>\n      <td>1</td>\n      <td>3703</td>\n      <td>5.0</td>\n      <td>2000-07-30 18:31:49</td>\n      <td>4.366379</td>\n    </tr>\n    <tr>\n      <th>24783</th>\n      <td>1</td>\n      <td>733</td>\n      <td>4.0</td>\n      <td>2000-07-30 18:40:00</td>\n      <td>4.366379</td>\n    </tr>\n    <tr>\n      <th>25185</th>\n      <td>1</td>\n      <td>1278</td>\n      <td>5.0</td>\n      <td>2000-07-30 18:56:54</td>\n      <td>4.366379</td>\n    </tr>\n  </tbody>\n</table>\n</div>",
            "text/plain": "       userId  movieId  rating            timestamp  mean_rating\n388         1      423     3.0  2000-07-30 18:39:23     4.366379\n1356        1     2099     4.0  2000-07-30 18:43:08     4.366379\n1839        1      356     4.0  2000-07-30 18:16:02     4.366379\n1943        1     3793     5.0  2000-07-30 18:30:55     4.366379\n4039        1      804     4.0  2000-07-30 18:08:19     4.366379\n4138        1      543     4.0  2000-07-30 18:19:39     4.366379\n4434        1     1029     5.0  2000-07-30 18:47:35     4.366379\n5022        1     1032     5.0  2000-07-30 18:46:31     4.366379\n5297        1     2571     5.0  2000-07-30 18:31:28     4.366379\n6055        1     2648     4.0  2000-07-30 18:56:54     4.366379\n6436        1     1445     3.0  2000-07-30 19:08:32     4.366379\n6756        1     3147     5.0  2000-07-30 19:04:33     4.366379\n6972        1     2054     4.0  2000-07-30 18:29:07     4.366379\n7057        1     2948     5.0  2000-07-30 18:36:31     4.366379\n7122        1      367     4.0  2000-07-30 18:28:30     4.366379\n7632        1     1408     3.0  2000-07-30 18:38:30     4.366379\n7803        1     2093     3.0  2000-07-30 18:28:30     4.366379\n7876        1     1617     5.0  2000-07-30 18:49:11     4.366379\n8693        1      151     5.0  2000-07-30 19:07:21     4.366379\n9322        1      596     5.0  2000-07-30 18:47:18     4.366379\n9356        1     2858     5.0  2000-07-30 18:14:28     4.366379\n10027       1     3247     3.0  2000-07-30 18:51:48     4.366379\n10345       1     2949     5.0  2000-07-30 18:31:28     4.366379\n11270       1     2078     5.0  2000-07-30 18:47:18     4.366379\n11317       1      457     5.0  2000-07-30 18:31:49     4.366379\n11548       1     1136     5.0  2000-07-30 18:22:07     4.366379\n11797       1     2502     5.0  2000-07-30 18:21:18     4.366379\n13228       1      441     4.0  2000-07-30 18:14:28     4.366379\n13811       1      553     5.0  2000-07-30 19:09:13     4.366379\n14088       1      101     5.0  2000-07-30 18:14:28     4.366379\n15056       1     2141     5.0  2000-07-30 18:47:18     4.366379\n15233       1     2161     5.0  2000-07-30 18:28:30     4.366379\n15256       1     1580     3.0  2000-07-30 18:18:45     4.366379\n16150       1     2116     5.0  2000-07-30 18:47:56     4.366379\n16174       1     1060     4.0  2000-07-30 18:15:24     4.366379\n16206       1     2997     4.0  2000-07-30 18:14:56     4.366379\n16558       1     2193     4.0  2000-07-30 18:28:30     4.366379\n16679       1     2268     4.0  2000-07-30 18:49:49     4.366379\n17577       1     1214     4.0  2000-07-30 18:30:55     4.366379\n18756       1     2644     4.0  2000-07-30 18:56:33     4.366379\n19172       1     2094     5.0  2000-07-30 18:44:13     4.366379\n20056       1     2761     5.0  2000-07-30 18:45:03     4.366379\n20274       1     1256     5.0  2000-07-30 18:24:02     4.366379\n22050       1     1473     4.0  2000-07-30 18:14:35     4.366379\n22073       1      480     4.0  2000-07-30 18:39:06     4.366379\n22203       1     2459     5.0  2000-07-30 18:56:54     4.366379\n22945       1      593     4.0  2000-07-30 19:03:13     4.366379\n23022       1     2338     2.0  2000-07-30 18:59:06     4.366379\n23170       1     2048     5.0  2000-07-30 18:46:31     4.366379\n23745       1     2654     5.0  2000-07-30 18:56:33     4.366379\n23758       1     2826     4.0  2000-07-30 18:08:43     4.366379\n24014       1     1089     5.0  2000-07-30 18:49:11     4.366379\n24085       1     3703     5.0  2000-07-30 18:31:49     4.366379\n24783       1      733     4.0  2000-07-30 18:40:00     4.366379\n25185       1     1278     5.0  2000-07-30 18:56:54     4.366379"
          },
          "metadata": {}
        }
      ]
    },
    {
      "metadata": {
        "trusted": true
      },
      "cell_type": "code",
      "source": "merged['mean_rating'].unique()",
      "execution_count": 88,
      "outputs": [
        {
          "output_type": "execute_result",
          "execution_count": 88,
          "data": {
            "text/plain": "array([3.80988024, 3.25058005, 4.08196721, 3.39895636, 2.84737124,\n       3.31531532, 3.30156951, 2.84221748, 3.39195701, 3.6573991 ,\n       3.69221106, 3.13417569, 3.74390244, 3.49917763, 4.11976048,\n       2.78064516, 3.2358841 , 4.203125  , 3.50795334, 2.72413793,\n       3.17346939, 3.53267974, 3.78609626, 3.43930636, 3.56590909,\n       2.66564103, 3.33978328, 3.4550173 , 3.53869048, 3.3953168 ,\n       3.81885856, 4.25      , 3.3755531 , 3.67323481, 4.07964602,\n       3.64666667, 3.18604651, 3.1657197 , 4.11363636, 4.20121951,\n       3.35511811, 3.71590909, 4.1423221 , 3.7559727 , 3.49130435,\n       2.64205004, 4.32258065, 3.26072235, 3.63099631, 3.65333333,\n       3.98684211, 2.60739687, 3.31108312, 3.542     , 3.37227723,\n       3.9071618 , 4.09307359, 2.66666667, 3.25851996, 3.23373016,\n       3.01774691, 4.20779221, 2.75090253, 3.97742664, 3.79807692,\n       3.51125896, 4.11634349, 4.35514019, 3.54444444, 3.90816327,\n       3.92466765, 3.9787234 , 3.56768559, 3.40659341, 3.97575758,\n       4.08510638, 4.24907063, 3.61881868, 3.41623037, 4.21237458,\n       3.54814815, 3.0389049 , 3.65      , 3.74      , 2.64      ,\n       3.11968085, 4.0625    , 3.80327869, 4.08695652, 3.46      ,\n       3.30046948, 3.68181818, 3.54219409, 4.        , 3.59925094,\n       3.69230769, 3.27511962, 3.27857143, 3.19      , 3.36      ,\n       3.78846154, 2.38625   , 2.21787709, 3.73666667, 2.76182708,\n       3.69646272, 3.47297297, 3.29310345, 3.48      , 3.15929204,\n       4.08684864, 2.991481  , 4.03375527, 3.70852018, 4.12258065,\n       2.71428571, 3.68115942, 3.39147287, 4.55693069, 3.47633136,\n       3.85714286, 3.74117647, 3.02017544, 3.42857143, 3.75490196,\n       2.24545455, 3.75362319, 3.89215686, 4.03571429, 3.57142857,\n       3.97260274, 3.27131783, 3.60869565, 3.87037037, 3.6       ,\n       3.71190476, 4.11764706, 3.62797619, 3.40625   , 4.02688172,\n       3.3       , 3.6902834 , 4.32142857, 2.70823799, 3.80480769,\n       3.73015873, 3.41891892, 4.25245098, 4.11904762, 3.71666667,\n       4.12688822, 3.94594595, 3.40298507, 3.92      , 3.68292683,\n       4.1754386 , 2.57142857, 4.07008086, 3.39285714, 3.88172043,\n       3.52981651, 3.11363636, 3.85945946, 4.01644737, 3.14597156,\n       3.80952381, 4.05988024, 3.27319588, 3.64615385, 4.07971014,\n       4.07407407, 4.00833333, 3.75986842, 3.41883117, 4.24285714,\n       3.85185185, 3.68855607, 3.7751938 , 3.2254902 , 3.70522388,\n       3.21040724, 3.14285714, 3.21627409, 3.36956522, 3.49513382,\n       3.95691906, 3.83333333, 3.34210526, 3.79411765, 4.20212766,\n       3.73207171, 2.61098398, 4.10843373, 3.59072581, 4.01785714,\n       3.7826087 , 4.06390977, 3.9140625 , 4.46276596, 3.76699029,\n       3.7244898 , 3.35576923, 3.54237288, 2.56818182, 3.87593985,\n       4.36637931, 3.85972222, 4.63414634, 3.45801527, 3.44202899,\n       3.43235294, 4.47297297, 3.166     , 3.046875  , 3.32258065,\n       3.73451327, 3.625     , 3.5125    , 3.91304348, 4.15652174,\n       3.81454545, 4.54623288, 4.42857143, 3.49363057, 4.46268657,\n       2.36368477, 3.84444444, 3.9005102 , 3.80322581, 3.48888889,\n       3.88461538, 3.4       , 3.5049505 , 3.7688588 , 3.78061224,\n       3.35714286, 3.74666667, 3.08571429, 4.13043478, 3.64876033,\n       4.07368421, 3.64772727, 3.06862745, 3.21428571, 2.90277778,\n       3.33939394, 3.90178571, 3.39565217, 3.44814815, 3.6894198 ,\n       3.78111588, 3.80434783, 3.56521739, 3.59090909, 4.3902439 ,\n       3.77576602, 3.3908046 , 3.57961783, 3.71502591, 3.23188406,\n       3.525     , 4.26047904, 3.47260274, 3.92456897, 3.78      ,\n       3.91221374, 3.475     , 4.73529412, 3.77419355, 3.23026316,\n       3.50859107, 3.67311828, 4.36956522, 3.5       , 3.9454023 ,\n       3.50884956, 4.14197531, 3.90449438, 3.65517241, 3.76811594,\n       3.90566038, 4.17674419, 2.725     , 4.390625  , 3.4137931 ,\n       3.8245614 , 3.32017544, 3.58510638, 3.92142857, 3.890625  ,\n       3.84146341, 4.05932203, 2.63333333, 3.38105727, 3.89393939,\n       4.06382979, 3.3559322 , 3.32044199, 3.25345622, 3.67391304,\n       4.09090909, 3.83      , 3.5625    , 3.50732601, 3.27333333,\n       2.93589744, 3.84126984, 4.35106383, 4.39583333, 3.63082437,\n       3.87179487, 2.61904762, 4.04      , 3.4375    , 3.24418605,\n       2.94067797, 3.52941176, 2.875     , 3.73958333, 3.53846154,\n       4.02028986, 3.43678161, 3.18041237, 4.04545455, 3.26190476,\n       4.22222222, 4.47692308, 3.22047244, 4.42574257, 2.62171053,\n       3.10119048, 3.57446809, 4.05555556, 4.03030303, 4.19047619,\n       3.85849057, 3.54054054, 3.26699029, 3.03571429, 4.36538462,\n       3.28571429, 4.43939394, 4.025     , 3.95783133, 3.30769231,\n       3.41860465, 4.69333333, 3.68852459, 3.71544715, 3.94212219,\n       4.09219858, 4.1       , 3.67857143, 4.15254237, 3.82738095,\n       4.28865979, 3.96376812, 4.55263158, 2.93939394, 3.41121495,\n       3.86792453, 3.83950617, 4.09615385, 3.76666667, 3.5483871 ,\n       2.1443299 , 4.20952381, 3.88288288, 3.59230769, 3.63636364,\n       3.35416667, 3.53571429, 4.02076125, 3.85416667, 4.34615385,\n       2.75      , 4.16666667, 3.2       , 3.83980583, 3.39583333,\n       3.27777778, 3.27027027, 3.95652174, 4.13888889, 4.10810811,\n       3.78773585, 3.98026316, 3.63978495, 2.81818182, 3.55555556,\n       4.00943396, 3.16666667, 4.41071429, 2.59722222, 4.45394737,\n       3.34      , 3.        , 2.85971223, 3.12068966, 3.08403361,\n       2.42608696, 4.67272727, 3.7254902 , 3.29464286, 3.25      ,\n       4.80769231, 4.18965517, 3.66463415, 4.24311927, 3.65671642,\n       3.82269504, 3.28947368, 3.77777778, 4.375     , 3.39259259,\n       3.25984252, 3.26086957, 3.81818182, 3.34969325, 3.66666667,\n       3.98275862, 4.86956522, 3.1       , 4.17741935, 3.99      ,\n       4.54878049, 3.17924528, 3.76785714, 3.72727273, 4.40967742,\n       3.62890625, 4.28      , 3.96666667, 3.31696429, 2.14583333,\n       3.9516129 , 3.81578947, 3.78787879, 3.03030303, 4.10416667,\n       3.74137931, 4.27118644, 2.80645161, 4.078125  , 3.21794872,\n       3.92920354, 3.05357143, 3.98031496, 3.875     , 3.45614035,\n       4.36363636, 4.38157895, 3.55737705, 3.94827586, 3.81395349,\n       3.16393443, 3.25609756, 3.82183908, 4.25806452, 3.86956522,\n       3.53191489, 3.64516129, 3.92857143, 2.95652174, 3.57692308,\n       4.38235294, 3.56862745, 4.2       , 3.47619048, 4.02678571,\n       3.31428571, 4.26190476, 3.8677686 , 4.15625   , 3.73846154,\n       3.90909091, 2.43589744, 3.62068966, 4.02941176, 4.33606557,\n       3.72972973, 4.51162791, 3.52777778, 3.40909091, 3.95833333,\n       4.02380952, 4.22727273, 3.94444444, 3.65217391, 4.84615385,\n       4.19736842, 3.43548387, 3.30932203, 3.76470588, 3.54166667,\n       3.62903226, 4.05128205, 3.34782609, 3.70588235, 4.296875  ,\n       3.36363636, 3.04918033, 3.32394366, 4.19444444, 4.10714286,\n       2.84      , 4.15555556, 4.12162162, 3.80263158, 3.91176471,\n       3.10526316, 4.14285714, 3.53125   , 3.74509804, 3.96296296,\n       3.38888889, 4.05714286, 3.375     , 2.86956522, 4.25925926,\n       3.8       , 3.7173913 , 4.125     , 4.52222222, 3.39393939,\n       4.21428571, 4.3373494 , 5.        , 3.90322581, 3.78125   ,\n       3.42307692, 4.23684211, 3.77272727, 2.94444444, 3.36538462,\n       3.52272727, 3.97222222, 3.23809524, 3.38095238, 3.9375    ,\n       2.76923077, 4.12068966, 4.32692308, 3.140625  , 2.86363636,\n       2.33928571, 1.275     , 3.82692308, 4.08333333, 3.95238095])"
          },
          "metadata": {}
        }
      ]
    },
    {
      "metadata": {
        "trusted": true
      },
      "cell_type": "code",
      "source": "mse = mean_squared_error(merged['rating'], merged['mean_rating'])\nrmse = np.sqrt(mse)\nrmse",
      "execution_count": 89,
      "outputs": [
        {
          "output_type": "execute_result",
          "execution_count": 89,
          "data": {
            "text/plain": "0.9295962808419188"
          },
          "metadata": {}
        }
      ]
    },
    {
      "metadata": {},
      "cell_type": "markdown",
      "source": "* predict all scores as the mean of ratings by movies"
    },
    {
      "metadata": {
        "trusted": true
      },
      "cell_type": "code",
      "source": "sum_of_ratings_by_movies = ratings.groupby('movieId')\n\nmeans_of_ratings_by_movies = sum_of_ratings_by_movies.mean()\n\nmeans_of_ratings_by_movies.rename(columns={'rating':'mean_rating'}, inplace=True)\n\nmeans_of_ratings_by_movies = means_of_ratings_by_movies.drop('userId', axis=1)",
      "execution_count": 91,
      "outputs": []
    },
    {
      "metadata": {
        "trusted": true,
        "scrolled": true
      },
      "cell_type": "code",
      "source": "means_of_ratings_by_movies",
      "execution_count": 92,
      "outputs": [
        {
          "output_type": "execute_result",
          "execution_count": 92,
          "data": {
            "text/html": "<div>\n<style scoped>\n    .dataframe tbody tr th:only-of-type {\n        vertical-align: middle;\n    }\n\n    .dataframe tbody tr th {\n        vertical-align: top;\n    }\n\n    .dataframe thead th {\n        text-align: right;\n    }\n</style>\n<table border=\"1\" class=\"dataframe\">\n  <thead>\n    <tr style=\"text-align: right;\">\n      <th></th>\n      <th>mean_rating</th>\n    </tr>\n    <tr>\n      <th>movieId</th>\n      <th></th>\n    </tr>\n  </thead>\n  <tbody>\n    <tr>\n      <th>1</th>\n      <td>3.920930</td>\n    </tr>\n    <tr>\n      <th>2</th>\n      <td>3.431818</td>\n    </tr>\n    <tr>\n      <th>3</th>\n      <td>3.259615</td>\n    </tr>\n    <tr>\n      <th>4</th>\n      <td>2.357143</td>\n    </tr>\n    <tr>\n      <th>5</th>\n      <td>3.071429</td>\n    </tr>\n    <tr>\n      <th>6</th>\n      <td>3.946078</td>\n    </tr>\n    <tr>\n      <th>7</th>\n      <td>3.185185</td>\n    </tr>\n    <tr>\n      <th>8</th>\n      <td>2.875000</td>\n    </tr>\n    <tr>\n      <th>9</th>\n      <td>3.125000</td>\n    </tr>\n    <tr>\n      <th>10</th>\n      <td>3.496212</td>\n    </tr>\n    <tr>\n      <th>11</th>\n      <td>3.671429</td>\n    </tr>\n    <tr>\n      <th>12</th>\n      <td>2.421053</td>\n    </tr>\n    <tr>\n      <th>13</th>\n      <td>3.125000</td>\n    </tr>\n    <tr>\n      <th>14</th>\n      <td>3.833333</td>\n    </tr>\n    <tr>\n      <th>15</th>\n      <td>3.000000</td>\n    </tr>\n    <tr>\n      <th>16</th>\n      <td>3.926829</td>\n    </tr>\n    <tr>\n      <th>17</th>\n      <td>3.776119</td>\n    </tr>\n    <tr>\n      <th>18</th>\n      <td>3.700000</td>\n    </tr>\n    <tr>\n      <th>19</th>\n      <td>2.727273</td>\n    </tr>\n    <tr>\n      <th>20</th>\n      <td>2.500000</td>\n    </tr>\n    <tr>\n      <th>21</th>\n      <td>3.494382</td>\n    </tr>\n    <tr>\n      <th>22</th>\n      <td>3.222222</td>\n    </tr>\n    <tr>\n      <th>23</th>\n      <td>3.125000</td>\n    </tr>\n    <tr>\n      <th>24</th>\n      <td>3.125000</td>\n    </tr>\n    <tr>\n      <th>25</th>\n      <td>3.625000</td>\n    </tr>\n    <tr>\n      <th>26</th>\n      <td>3.500000</td>\n    </tr>\n    <tr>\n      <th>27</th>\n      <td>3.333333</td>\n    </tr>\n    <tr>\n      <th>28</th>\n      <td>4.227273</td>\n    </tr>\n    <tr>\n      <th>29</th>\n      <td>4.013158</td>\n    </tr>\n    <tr>\n      <th>30</th>\n      <td>3.000000</td>\n    </tr>\n    <tr>\n      <th>...</th>\n      <td>...</td>\n    </tr>\n    <tr>\n      <th>188189</th>\n      <td>4.500000</td>\n    </tr>\n    <tr>\n      <th>188301</th>\n      <td>3.666667</td>\n    </tr>\n    <tr>\n      <th>188675</th>\n      <td>3.500000</td>\n    </tr>\n    <tr>\n      <th>188751</th>\n      <td>4.500000</td>\n    </tr>\n    <tr>\n      <th>188797</th>\n      <td>4.000000</td>\n    </tr>\n    <tr>\n      <th>188833</th>\n      <td>4.500000</td>\n    </tr>\n    <tr>\n      <th>189043</th>\n      <td>2.500000</td>\n    </tr>\n    <tr>\n      <th>189111</th>\n      <td>3.000000</td>\n    </tr>\n    <tr>\n      <th>189333</th>\n      <td>3.750000</td>\n    </tr>\n    <tr>\n      <th>189381</th>\n      <td>2.500000</td>\n    </tr>\n    <tr>\n      <th>189547</th>\n      <td>1.000000</td>\n    </tr>\n    <tr>\n      <th>189713</th>\n      <td>2.500000</td>\n    </tr>\n    <tr>\n      <th>190183</th>\n      <td>3.500000</td>\n    </tr>\n    <tr>\n      <th>190207</th>\n      <td>1.500000</td>\n    </tr>\n    <tr>\n      <th>190209</th>\n      <td>4.000000</td>\n    </tr>\n    <tr>\n      <th>190213</th>\n      <td>1.000000</td>\n    </tr>\n    <tr>\n      <th>190215</th>\n      <td>1.500000</td>\n    </tr>\n    <tr>\n      <th>190219</th>\n      <td>1.000000</td>\n    </tr>\n    <tr>\n      <th>190221</th>\n      <td>1.000000</td>\n    </tr>\n    <tr>\n      <th>191005</th>\n      <td>4.500000</td>\n    </tr>\n    <tr>\n      <th>193565</th>\n      <td>3.500000</td>\n    </tr>\n    <tr>\n      <th>193567</th>\n      <td>3.000000</td>\n    </tr>\n    <tr>\n      <th>193571</th>\n      <td>4.000000</td>\n    </tr>\n    <tr>\n      <th>193573</th>\n      <td>4.000000</td>\n    </tr>\n    <tr>\n      <th>193579</th>\n      <td>3.500000</td>\n    </tr>\n    <tr>\n      <th>193581</th>\n      <td>4.000000</td>\n    </tr>\n    <tr>\n      <th>193583</th>\n      <td>3.500000</td>\n    </tr>\n    <tr>\n      <th>193585</th>\n      <td>3.500000</td>\n    </tr>\n    <tr>\n      <th>193587</th>\n      <td>3.500000</td>\n    </tr>\n    <tr>\n      <th>193609</th>\n      <td>4.000000</td>\n    </tr>\n  </tbody>\n</table>\n<p>9724 rows × 1 columns</p>\n</div>",
            "text/plain": "         mean_rating\nmovieId             \n1           3.920930\n2           3.431818\n3           3.259615\n4           2.357143\n5           3.071429\n6           3.946078\n7           3.185185\n8           2.875000\n9           3.125000\n10          3.496212\n11          3.671429\n12          2.421053\n13          3.125000\n14          3.833333\n15          3.000000\n16          3.926829\n17          3.776119\n18          3.700000\n19          2.727273\n20          2.500000\n21          3.494382\n22          3.222222\n23          3.125000\n24          3.125000\n25          3.625000\n26          3.500000\n27          3.333333\n28          4.227273\n29          4.013158\n30          3.000000\n...              ...\n188189      4.500000\n188301      3.666667\n188675      3.500000\n188751      4.500000\n188797      4.000000\n188833      4.500000\n189043      2.500000\n189111      3.000000\n189333      3.750000\n189381      2.500000\n189547      1.000000\n189713      2.500000\n190183      3.500000\n190207      1.500000\n190209      4.000000\n190213      1.000000\n190215      1.500000\n190219      1.000000\n190221      1.000000\n191005      4.500000\n193565      3.500000\n193567      3.000000\n193571      4.000000\n193573      4.000000\n193579      3.500000\n193581      4.000000\n193583      3.500000\n193585      3.500000\n193587      3.500000\n193609      4.000000\n\n[9724 rows x 1 columns]"
          },
          "metadata": {}
        }
      ]
    },
    {
      "metadata": {
        "trusted": true
      },
      "cell_type": "code",
      "source": "merged = pd.merge(test, means_of_ratings_by_movies, how='left', on='movieId')",
      "execution_count": 94,
      "outputs": []
    },
    {
      "metadata": {
        "trusted": true
      },
      "cell_type": "code",
      "source": "merged[merged['mean_rating'].isnull()]",
      "execution_count": 102,
      "outputs": [
        {
          "output_type": "execute_result",
          "execution_count": 102,
          "data": {
            "text/html": "<div>\n<style scoped>\n    .dataframe tbody tr th:only-of-type {\n        vertical-align: middle;\n    }\n\n    .dataframe tbody tr th {\n        vertical-align: top;\n    }\n\n    .dataframe thead th {\n        text-align: right;\n    }\n</style>\n<table border=\"1\" class=\"dataframe\">\n  <thead>\n    <tr style=\"text-align: right;\">\n      <th></th>\n      <th>userId</th>\n      <th>movieId</th>\n      <th>rating</th>\n      <th>timestamp</th>\n      <th>mean_rating</th>\n    </tr>\n  </thead>\n  <tbody>\n  </tbody>\n</table>\n</div>",
            "text/plain": "Empty DataFrame\nColumns: [userId, movieId, rating, timestamp, mean_rating]\nIndex: []"
          },
          "metadata": {}
        }
      ]
    },
    {
      "metadata": {
        "trusted": true
      },
      "cell_type": "code",
      "source": "merged['mean_rating'].unique()",
      "execution_count": 95,
      "outputs": [
        {
          "output_type": "execute_result",
          "execution_count": 95,
          "data": {
            "text/plain": "array([3.04037267, 2.15      , 4.10606061, ..., 2.53846154, 2.86842105,\n       1.7       ])"
          },
          "metadata": {}
        }
      ]
    },
    {
      "metadata": {
        "trusted": true
      },
      "cell_type": "code",
      "source": "mse = mean_squared_error(merged['rating'], merged['mean_rating'])\nrmse = np.sqrt(mse)\nrmse",
      "execution_count": 96,
      "outputs": [
        {
          "output_type": "execute_result",
          "execution_count": 96,
          "data": {
            "text/plain": "0.8715007899882313"
          },
          "metadata": {}
        }
      ]
    },
    {
      "metadata": {
        "trusted": true
      },
      "cell_type": "code",
      "source": "'git test'",
      "execution_count": 1,
      "outputs": [
        {
          "output_type": "execute_result",
          "execution_count": 1,
          "data": {
            "text/plain": "'git test'"
          },
          "metadata": {}
        }
      ]
    }
  ],
  "metadata": {
    "kernelspec": {
      "name": "python36",
      "display_name": "Python 3.6",
      "language": "python"
    },
    "language_info": {
      "mimetype": "text/x-python",
      "nbconvert_exporter": "python",
      "name": "python",
      "pygments_lexer": "ipython3",
      "version": "3.6.6",
      "file_extension": ".py",
      "codemirror_mode": {
        "version": 3,
        "name": "ipython"
      }
    }
  },
  "nbformat": 4,
  "nbformat_minor": 2
}