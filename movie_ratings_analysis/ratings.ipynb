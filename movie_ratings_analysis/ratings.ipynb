{
  "cells": [
    {
      "metadata": {
        "trusted": true
      },
      "cell_type": "code",
      "source": "import pandas as pd",
      "execution_count": 2,
      "outputs": []
    },
    {
      "metadata": {
        "trusted": true
      },
      "cell_type": "code",
      "source": "ratings = pd.read_csv('./data/ml-latest-small/ratings.csv')\nratings.sample()",
      "execution_count": 3,
      "outputs": [
        {
          "output_type": "execute_result",
          "execution_count": 3,
          "data": {
            "text/html": "<div>\n<style scoped>\n    .dataframe tbody tr th:only-of-type {\n        vertical-align: middle;\n    }\n\n    .dataframe tbody tr th {\n        vertical-align: top;\n    }\n\n    .dataframe thead th {\n        text-align: right;\n    }\n</style>\n<table border=\"1\" class=\"dataframe\">\n  <thead>\n    <tr style=\"text-align: right;\">\n      <th></th>\n      <th>userId</th>\n      <th>movieId</th>\n      <th>rating</th>\n      <th>timestamp</th>\n    </tr>\n  </thead>\n  <tbody>\n    <tr>\n      <th>33775</th>\n      <td>230</td>\n      <td>1101</td>\n      <td>2.5</td>\n      <td>1196304952</td>\n    </tr>\n  </tbody>\n</table>\n</div>",
            "text/plain": "       userId  movieId  rating   timestamp\n33775     230     1101     2.5  1196304952"
          },
          "metadata": {}
        }
      ]
    },
    {
      "metadata": {
        "trusted": true
      },
      "cell_type": "code",
      "source": "ratings.shape",
      "execution_count": 4,
      "outputs": [
        {
          "output_type": "execute_result",
          "execution_count": 4,
          "data": {
            "text/plain": "(100836, 4)"
          },
          "metadata": {}
        }
      ]
    },
    {
      "metadata": {
        "trusted": true,
        "scrolled": true
      },
      "cell_type": "code",
      "source": "print(ratings['userId'].unique())\nprint(len(ratings['userId'].unique()))\nprint(len(ratings['movieId'].unique()))\n# 총 610명이 평가, 9724개 영화가 평가된 것을 알 수 있음.",
      "execution_count": 5,
      "outputs": [
        {
          "output_type": "stream",
          "text": "[  1   2   3   4   5   6   7   8   9  10  11  12  13  14  15  16  17  18\n  19  20  21  22  23  24  25  26  27  28  29  30  31  32  33  34  35  36\n  37  38  39  40  41  42  43  44  45  46  47  48  49  50  51  52  53  54\n  55  56  57  58  59  60  61  62  63  64  65  66  67  68  69  70  71  72\n  73  74  75  76  77  78  79  80  81  82  83  84  85  86  87  88  89  90\n  91  92  93  94  95  96  97  98  99 100 101 102 103 104 105 106 107 108\n 109 110 111 112 113 114 115 116 117 118 119 120 121 122 123 124 125 126\n 127 128 129 130 131 132 133 134 135 136 137 138 139 140 141 142 143 144\n 145 146 147 148 149 150 151 152 153 154 155 156 157 158 159 160 161 162\n 163 164 165 166 167 168 169 170 171 172 173 174 175 176 177 178 179 180\n 181 182 183 184 185 186 187 188 189 190 191 192 193 194 195 196 197 198\n 199 200 201 202 203 204 205 206 207 208 209 210 211 212 213 214 215 216\n 217 218 219 220 221 222 223 224 225 226 227 228 229 230 231 232 233 234\n 235 236 237 238 239 240 241 242 243 244 245 246 247 248 249 250 251 252\n 253 254 255 256 257 258 259 260 261 262 263 264 265 266 267 268 269 270\n 271 272 273 274 275 276 277 278 279 280 281 282 283 284 285 286 287 288\n 289 290 291 292 293 294 295 296 297 298 299 300 301 302 303 304 305 306\n 307 308 309 310 311 312 313 314 315 316 317 318 319 320 321 322 323 324\n 325 326 327 328 329 330 331 332 333 334 335 336 337 338 339 340 341 342\n 343 344 345 346 347 348 349 350 351 352 353 354 355 356 357 358 359 360\n 361 362 363 364 365 366 367 368 369 370 371 372 373 374 375 376 377 378\n 379 380 381 382 383 384 385 386 387 388 389 390 391 392 393 394 395 396\n 397 398 399 400 401 402 403 404 405 406 407 408 409 410 411 412 413 414\n 415 416 417 418 419 420 421 422 423 424 425 426 427 428 429 430 431 432\n 433 434 435 436 437 438 439 440 441 442 443 444 445 446 447 448 449 450\n 451 452 453 454 455 456 457 458 459 460 461 462 463 464 465 466 467 468\n 469 470 471 472 473 474 475 476 477 478 479 480 481 482 483 484 485 486\n 487 488 489 490 491 492 493 494 495 496 497 498 499 500 501 502 503 504\n 505 506 507 508 509 510 511 512 513 514 515 516 517 518 519 520 521 522\n 523 524 525 526 527 528 529 530 531 532 533 534 535 536 537 538 539 540\n 541 542 543 544 545 546 547 548 549 550 551 552 553 554 555 556 557 558\n 559 560 561 562 563 564 565 566 567 568 569 570 571 572 573 574 575 576\n 577 578 579 580 581 582 583 584 585 586 587 588 589 590 591 592 593 594\n 595 596 597 598 599 600 601 602 603 604 605 606 607 608 609 610]\n610\n9724\n",
          "name": "stdout"
        }
      ]
    },
    {
      "metadata": {
        "trusted": true
      },
      "cell_type": "code",
      "source": "ratings['rating'].describe()",
      "execution_count": 6,
      "outputs": [
        {
          "output_type": "execute_result",
          "execution_count": 6,
          "data": {
            "text/plain": "count    100836.000000\nmean          3.501557\nstd           1.042529\nmin           0.500000\n25%           3.000000\n50%           3.500000\n75%           4.000000\nmax           5.000000\nName: rating, dtype: float64"
          },
          "metadata": {}
        }
      ]
    },
    {
      "metadata": {
        "trusted": true
      },
      "cell_type": "code",
      "source": "ratings['rating'].hist()",
      "execution_count": 7,
      "outputs": [
        {
          "output_type": "execute_result",
          "execution_count": 7,
          "data": {
            "text/plain": "<matplotlib.axes._subplots.AxesSubplot at 0x7f9dd7bd1668>"
          },
          "metadata": {}
        }
      ]
    },
    {
      "metadata": {
        "trusted": true
      },
      "cell_type": "code",
      "source": "users = ratings.groupby('userId')['movieId'].count()\nusers.head()",
      "execution_count": 8,
      "outputs": [
        {
          "output_type": "execute_result",
          "execution_count": 8,
          "data": {
            "text/plain": "userId\n1    232\n2     29\n3     39\n4    216\n5     44\nName: movieId, dtype: int64"
          },
          "metadata": {}
        }
      ]
    },
    {
      "metadata": {
        "trusted": true
      },
      "cell_type": "code",
      "source": "users.describe()",
      "execution_count": 9,
      "outputs": [
        {
          "output_type": "execute_result",
          "execution_count": 9,
          "data": {
            "text/plain": "count     610.000000\nmean      165.304918\nstd       269.480584\nmin        20.000000\n25%        35.000000\n50%        70.500000\n75%       168.000000\nmax      2698.000000\nName: movieId, dtype: float64"
          },
          "metadata": {}
        }
      ]
    },
    {
      "metadata": {
        "trusted": true
      },
      "cell_type": "code",
      "source": "import seaborn as sns",
      "execution_count": 10,
      "outputs": []
    },
    {
      "metadata": {
        "trusted": true
      },
      "cell_type": "code",
      "source": "sns.distplot(users.values)\n# Power law distribution 멱함수 분포",
      "execution_count": 11,
      "outputs": [
        {
          "output_type": "stream",
          "text": "/home/nbuser/anaconda3_501/lib/python3.6/site-packages/scipy/stats/stats.py:1713: FutureWarning: Using a non-tuple sequence for multidimensional indexing is deprecated; use `arr[tuple(seq)]` instead of `arr[seq]`. In the future this will be interpreted as an array index, `arr[np.array(seq)]`, which will result either in an error or a different result.\n  return np.add.reduce(sorted[indexer] * weights, axis=axis) / sumval\n",
          "name": "stderr"
        },
        {
          "output_type": "execute_result",
          "execution_count": 11,
          "data": {
            "text/plain": "<matplotlib.axes._subplots.AxesSubplot at 0x7f9dd3ae2160>"
          },
          "metadata": {}
        },
        {
          "output_type": "display_data",
          "data": {
            "image/png": "[encoded data removed]",
            "text/plain": "<Figure size 432x288 with 1 Axes>"
          },
          "metadata": {
            "needs_background": "light"
          }
        }
      ]
    },
    {
      "metadata": {},
      "cell_type": "markdown",
      "source": "### 사람들이 많이 보는 영화?"
    },
    {
      "metadata": {
        "trusted": true
      },
      "cell_type": "code",
      "source": "films = ratings.groupby('movieId')['movieId'].count()",
      "execution_count": 12,
      "outputs": []
    },
    {
      "metadata": {
        "trusted": true
      },
      "cell_type": "code",
      "source": "films.sort_values(ascending=False).head()",
      "execution_count": 13,
      "outputs": [
        {
          "output_type": "execute_result",
          "execution_count": 13,
          "data": {
            "text/plain": "movieId\n356     329\n318     317\n296     307\n593     279\n2571    278\nName: movieId, dtype: int64"
          },
          "metadata": {}
        }
      ]
    },
    {
      "metadata": {
        "trusted": true
      },
      "cell_type": "code",
      "source": "movies = pd.read_csv('./data/ml-latest-small/movies.csv', index_col='movieId')",
      "execution_count": 14,
      "outputs": []
    },
    {
      "metadata": {
        "trusted": true
      },
      "cell_type": "code",
      "source": "movies.loc[[356, 318, 296, 593, 2571]]",
      "execution_count": 15,
      "outputs": [
        {
          "output_type": "execute_result",
          "execution_count": 15,
          "data": {
            "text/html": "<div>\n<style scoped>\n    .dataframe tbody tr th:only-of-type {\n        vertical-align: middle;\n    }\n\n    .dataframe tbody tr th {\n        vertical-align: top;\n    }\n\n    .dataframe thead th {\n        text-align: right;\n    }\n</style>\n<table border=\"1\" class=\"dataframe\">\n  <thead>\n    <tr style=\"text-align: right;\">\n      <th></th>\n      <th>title</th>\n      <th>genres</th>\n    </tr>\n    <tr>\n      <th>movieId</th>\n      <th></th>\n      <th></th>\n    </tr>\n  </thead>\n  <tbody>\n    <tr>\n      <th>356</th>\n      <td>Forrest Gump (1994)</td>\n      <td>Comedy|Drama|Romance|War</td>\n    </tr>\n    <tr>\n      <th>318</th>\n      <td>Shawshank Redemption, The (1994)</td>\n      <td>Crime|Drama</td>\n    </tr>\n    <tr>\n      <th>296</th>\n      <td>Pulp Fiction (1994)</td>\n      <td>Comedy|Crime|Drama|Thriller</td>\n    </tr>\n    <tr>\n      <th>593</th>\n      <td>Silence of the Lambs, The (1991)</td>\n      <td>Crime|Horror|Thriller</td>\n    </tr>\n    <tr>\n      <th>2571</th>\n      <td>Matrix, The (1999)</td>\n      <td>Action|Sci-Fi|Thriller</td>\n    </tr>\n  </tbody>\n</table>\n</div>",
            "text/plain": "                                    title                       genres\nmovieId                                                               \n356                   Forrest Gump (1994)     Comedy|Drama|Romance|War\n318      Shawshank Redemption, The (1994)                  Crime|Drama\n296                   Pulp Fiction (1994)  Comedy|Crime|Drama|Thriller\n593      Silence of the Lambs, The (1991)        Crime|Horror|Thriller\n2571                   Matrix, The (1999)       Action|Sci-Fi|Thriller"
          },
          "metadata": {}
        }
      ]
    },
    {
      "metadata": {},
      "cell_type": "markdown",
      "source": "### 특정영화 평점보기"
    },
    {
      "metadata": {
        "trusted": true
      },
      "cell_type": "code",
      "source": "movies[movies.title.apply(func = lambda x: 'Frozen' in x)]",
      "execution_count": 28,
      "outputs": [
        {
          "output_type": "execute_result",
          "execution_count": 28,
          "data": {
            "text/html": "<div>\n<style scoped>\n    .dataframe tbody tr th:only-of-type {\n        vertical-align: middle;\n    }\n\n    .dataframe tbody tr th {\n        vertical-align: top;\n    }\n\n    .dataframe thead th {\n        text-align: right;\n    }\n</style>\n<table border=\"1\" class=\"dataframe\">\n  <thead>\n    <tr style=\"text-align: right;\">\n      <th></th>\n      <th>title</th>\n      <th>genres</th>\n    </tr>\n    <tr>\n      <th>movieId</th>\n      <th></th>\n      <th></th>\n    </tr>\n  </thead>\n  <tbody>\n    <tr>\n      <th>60943</th>\n      <td>Frozen River (2008)</td>\n      <td>Drama</td>\n    </tr>\n    <tr>\n      <th>75395</th>\n      <td>Frozen (2010)</td>\n      <td>Drama|Horror|Thriller</td>\n    </tr>\n    <tr>\n      <th>100553</th>\n      <td>Frozen Planet (2011)</td>\n      <td>Documentary</td>\n    </tr>\n    <tr>\n      <th>106696</th>\n      <td>Frozen (2013)</td>\n      <td>Adventure|Animation|Comedy|Fantasy|Musical|Rom...</td>\n    </tr>\n  </tbody>\n</table>\n</div>",
            "text/plain": "                        title  \\\nmovieId                         \n60943     Frozen River (2008)   \n75395           Frozen (2010)   \n100553   Frozen Planet (2011)   \n106696          Frozen (2013)   \n\n                                                    genres  \nmovieId                                                     \n60943                                                Drama  \n75395                                Drama|Horror|Thriller  \n100553                                         Documentary  \n106696   Adventure|Animation|Comedy|Fantasy|Musical|Rom...  "
          },
          "metadata": {}
        }
      ]
    },
    {
      "metadata": {
        "trusted": true
      },
      "cell_type": "code",
      "source": "movies[movies.title=='Frozen (2013)']",
      "execution_count": 17,
      "outputs": [
        {
          "output_type": "execute_result",
          "execution_count": 17,
          "data": {
            "text/html": "<div>\n<style scoped>\n    .dataframe tbody tr th:only-of-type {\n        vertical-align: middle;\n    }\n\n    .dataframe tbody tr th {\n        vertical-align: top;\n    }\n\n    .dataframe thead th {\n        text-align: right;\n    }\n</style>\n<table border=\"1\" class=\"dataframe\">\n  <thead>\n    <tr style=\"text-align: right;\">\n      <th></th>\n      <th>title</th>\n      <th>genres</th>\n    </tr>\n    <tr>\n      <th>movieId</th>\n      <th></th>\n      <th></th>\n    </tr>\n  </thead>\n  <tbody>\n    <tr>\n      <th>106696</th>\n      <td>Frozen (2013)</td>\n      <td>Adventure|Animation|Comedy|Fantasy|Musical|Rom...</td>\n    </tr>\n  </tbody>\n</table>\n</div>",
            "text/plain": "                 title                                             genres\nmovieId                                                                  \n106696   Frozen (2013)  Adventure|Animation|Comedy|Fantasy|Musical|Rom..."
          },
          "metadata": {}
        }
      ]
    },
    {
      "metadata": {
        "trusted": true
      },
      "cell_type": "code",
      "source": "movies.index[movies.title=='Frozen (2013)']",
      "execution_count": 18,
      "outputs": [
        {
          "output_type": "execute_result",
          "execution_count": 18,
          "data": {
            "text/plain": "Int64Index([106696], dtype='int64', name='movieId')"
          },
          "metadata": {}
        }
      ]
    },
    {
      "metadata": {
        "trusted": true
      },
      "cell_type": "code",
      "source": "movies.index[movies.title=='Frozen (2013)'][0]",
      "execution_count": 19,
      "outputs": [
        {
          "output_type": "execute_result",
          "execution_count": 19,
          "data": {
            "text/plain": "106696"
          },
          "metadata": {}
        }
      ]
    },
    {
      "metadata": {
        "trusted": true
      },
      "cell_type": "code",
      "source": "ratings_of_frozen = ratings[ratings.movieId == movies.index[movies.title=='Frozen (2013)'][0]] # Frozen 에 대한 ratings",
      "execution_count": 29,
      "outputs": []
    },
    {
      "metadata": {
        "trusted": true
      },
      "cell_type": "code",
      "source": "len(ratings_of_frozen)",
      "execution_count": 31,
      "outputs": [
        {
          "output_type": "execute_result",
          "execution_count": 31,
          "data": {
            "text/plain": "29"
          },
          "metadata": {}
        }
      ]
    },
    {
      "metadata": {
        "trusted": true
      },
      "cell_type": "code",
      "source": "ratings_of_frozen['rating'].hist()",
      "execution_count": 32,
      "outputs": [
        {
          "output_type": "execute_result",
          "execution_count": 32,
          "data": {
            "text/plain": "<matplotlib.axes._subplots.AxesSubplot at 0x7f9dd2a89390>"
          },
          "metadata": {}
        },
        {
          "output_type": "display_data",
          "data": {
            "image/png": "[encoded data removed]",
            "text/plain": "<Figure size 432x288 with 1 Axes>"
          },
          "metadata": {
            "needs_background": "light"
          }
        }
      ]
    },
    {
      "metadata": {},
      "cell_type": "markdown",
      "source": "* 1점 준 user에 대해 분석해보자."
    },
    {
      "metadata": {
        "trusted": true,
        "scrolled": true
      },
      "cell_type": "code",
      "source": "ratings_of_frozen",
      "execution_count": 34,
      "outputs": [
        {
          "output_type": "execute_result",
          "execution_count": 34,
          "data": {
            "text/html": "<div>\n<style scoped>\n    .dataframe tbody tr th:only-of-type {\n        vertical-align: middle;\n    }\n\n    .dataframe tbody tr th {\n        vertical-align: top;\n    }\n\n    .dataframe thead th {\n        text-align: right;\n    }\n</style>\n<table border=\"1\" class=\"dataframe\">\n  <thead>\n    <tr style=\"text-align: right;\">\n      <th></th>\n      <th>userId</th>\n      <th>movieId</th>\n      <th>rating</th>\n      <th>timestamp</th>\n    </tr>\n  </thead>\n  <tbody>\n    <tr>\n      <th>1245</th>\n      <td>10</td>\n      <td>106696</td>\n      <td>4.5</td>\n      <td>1455306204</td>\n    </tr>\n    <tr>\n      <th>3572</th>\n      <td>21</td>\n      <td>106696</td>\n      <td>4.0</td>\n      <td>1403460685</td>\n    </tr>\n    <tr>\n      <th>9418</th>\n      <td>63</td>\n      <td>106696</td>\n      <td>5.0</td>\n      <td>1443461176</td>\n    </tr>\n    <tr>\n      <th>16798</th>\n      <td>105</td>\n      <td>106696</td>\n      <td>3.5</td>\n      <td>1447563589</td>\n    </tr>\n    <tr>\n      <th>21852</th>\n      <td>141</td>\n      <td>106696</td>\n      <td>3.0</td>\n      <td>1513129988</td>\n    </tr>\n    <tr>\n      <th>21967</th>\n      <td>143</td>\n      <td>106696</td>\n      <td>4.0</td>\n      <td>1444768621</td>\n    </tr>\n    <tr>\n      <th>22567</th>\n      <td>153</td>\n      <td>106696</td>\n      <td>2.5</td>\n      <td>1525552648</td>\n    </tr>\n    <tr>\n      <th>23219</th>\n      <td>159</td>\n      <td>106696</td>\n      <td>3.0</td>\n      <td>1508640298</td>\n    </tr>\n    <tr>\n      <th>25783</th>\n      <td>177</td>\n      <td>106696</td>\n      <td>5.0</td>\n      <td>1435529765</td>\n    </tr>\n    <tr>\n      <th>35769</th>\n      <td>241</td>\n      <td>106696</td>\n      <td>4.0</td>\n      <td>1447540037</td>\n    </tr>\n    <tr>\n      <th>37282</th>\n      <td>249</td>\n      <td>106696</td>\n      <td>3.5</td>\n      <td>1396222978</td>\n    </tr>\n    <tr>\n      <th>37490</th>\n      <td>252</td>\n      <td>106696</td>\n      <td>4.5</td>\n      <td>1498284778</td>\n    </tr>\n    <tr>\n      <th>43914</th>\n      <td>292</td>\n      <td>106696</td>\n      <td>4.0</td>\n      <td>1421974328</td>\n    </tr>\n    <tr>\n      <th>46526</th>\n      <td>305</td>\n      <td>106696</td>\n      <td>4.0</td>\n      <td>1460303575</td>\n    </tr>\n    <tr>\n      <th>46686</th>\n      <td>306</td>\n      <td>106696</td>\n      <td>4.0</td>\n      <td>1518380586</td>\n    </tr>\n    <tr>\n      <th>49886</th>\n      <td>319</td>\n      <td>106696</td>\n      <td>4.5</td>\n      <td>1461351802</td>\n    </tr>\n    <tr>\n      <th>51345</th>\n      <td>331</td>\n      <td>106696</td>\n      <td>3.5</td>\n      <td>1537158456</td>\n    </tr>\n    <tr>\n      <th>53458</th>\n      <td>352</td>\n      <td>106696</td>\n      <td>2.0</td>\n      <td>1493674468</td>\n    </tr>\n    <tr>\n      <th>58821</th>\n      <td>382</td>\n      <td>106696</td>\n      <td>3.5</td>\n      <td>1515161464</td>\n    </tr>\n    <tr>\n      <th>77938</th>\n      <td>483</td>\n      <td>106696</td>\n      <td>4.0</td>\n      <td>1415575259</td>\n    </tr>\n    <tr>\n      <th>79732</th>\n      <td>495</td>\n      <td>106696</td>\n      <td>5.0</td>\n      <td>1458635883</td>\n    </tr>\n    <tr>\n      <th>80811</th>\n      <td>509</td>\n      <td>106696</td>\n      <td>4.5</td>\n      <td>1444255616</td>\n    </tr>\n    <tr>\n      <th>81910</th>\n      <td>517</td>\n      <td>106696</td>\n      <td>1.0</td>\n      <td>1487955739</td>\n    </tr>\n    <tr>\n      <th>83064</th>\n      <td>525</td>\n      <td>106696</td>\n      <td>3.5</td>\n      <td>1476476140</td>\n    </tr>\n    <tr>\n      <th>84033</th>\n      <td>534</td>\n      <td>106696</td>\n      <td>3.0</td>\n      <td>1459787998</td>\n    </tr>\n    <tr>\n      <th>88023</th>\n      <td>567</td>\n      <td>106696</td>\n      <td>0.5</td>\n      <td>1525289874</td>\n    </tr>\n    <tr>\n      <th>89900</th>\n      <td>583</td>\n      <td>106696</td>\n      <td>3.0</td>\n      <td>1481474420</td>\n    </tr>\n    <tr>\n      <th>90206</th>\n      <td>586</td>\n      <td>106696</td>\n      <td>5.0</td>\n      <td>1529899352</td>\n    </tr>\n    <tr>\n      <th>92080</th>\n      <td>596</td>\n      <td>106696</td>\n      <td>3.5</td>\n      <td>1535827238</td>\n    </tr>\n  </tbody>\n</table>\n</div>",
            "text/plain": "       userId  movieId  rating   timestamp\n1245       10   106696     4.5  1455306204\n3572       21   106696     4.0  1403460685\n9418       63   106696     5.0  1443461176\n16798     105   106696     3.5  1447563589\n21852     141   106696     3.0  1513129988\n21967     143   106696     4.0  1444768621\n22567     153   106696     2.5  1525552648\n23219     159   106696     3.0  1508640298\n25783     177   106696     5.0  1435529765\n35769     241   106696     4.0  1447540037\n37282     249   106696     3.5  1396222978\n37490     252   106696     4.5  1498284778\n43914     292   106696     4.0  1421974328\n46526     305   106696     4.0  1460303575\n46686     306   106696     4.0  1518380586\n49886     319   106696     4.5  1461351802\n51345     331   106696     3.5  1537158456\n53458     352   106696     2.0  1493674468\n58821     382   106696     3.5  1515161464\n77938     483   106696     4.0  1415575259\n79732     495   106696     5.0  1458635883\n80811     509   106696     4.5  1444255616\n81910     517   106696     1.0  1487955739\n83064     525   106696     3.5  1476476140\n84033     534   106696     3.0  1459787998\n88023     567   106696     0.5  1525289874\n89900     583   106696     3.0  1481474420\n90206     586   106696     5.0  1529899352\n92080     596   106696     3.5  1535827238"
          },
          "metadata": {}
        }
      ]
    },
    {
      "metadata": {
        "trusted": true
      },
      "cell_type": "code",
      "source": "print(int(ratings_of_frozen[ratings_of_frozen.rating == 1]['userId']))",
      "execution_count": 48,
      "outputs": [
        {
          "output_type": "stream",
          "text": "517\n",
          "name": "stdout"
        }
      ]
    },
    {
      "metadata": {
        "trusted": true,
        "scrolled": true
      },
      "cell_type": "code",
      "source": "ratings.loc[ratings['userId'] == int(ratings_of_frozen[ratings_of_frozen.rating == 1]['userId'])]",
      "execution_count": 52,
      "outputs": [
        {
          "output_type": "execute_result",
          "execution_count": 52,
          "data": {
            "text/html": "<div>\n<style scoped>\n    .dataframe tbody tr th:only-of-type {\n        vertical-align: middle;\n    }\n\n    .dataframe tbody tr th {\n        vertical-align: top;\n    }\n\n    .dataframe thead th {\n        text-align: right;\n    }\n</style>\n<table border=\"1\" class=\"dataframe\">\n  <thead>\n    <tr style=\"text-align: right;\">\n      <th></th>\n      <th>userId</th>\n      <th>movieId</th>\n      <th>rating</th>\n      <th>timestamp</th>\n    </tr>\n  </thead>\n  <tbody>\n    <tr>\n      <th>81531</th>\n      <td>517</td>\n      <td>1</td>\n      <td>4.0</td>\n      <td>1487954343</td>\n    </tr>\n    <tr>\n      <th>81532</th>\n      <td>517</td>\n      <td>2</td>\n      <td>3.0</td>\n      <td>1487954340</td>\n    </tr>\n    <tr>\n      <th>81533</th>\n      <td>517</td>\n      <td>10</td>\n      <td>0.5</td>\n      <td>1487957717</td>\n    </tr>\n    <tr>\n      <th>81534</th>\n      <td>517</td>\n      <td>17</td>\n      <td>0.5</td>\n      <td>1487953834</td>\n    </tr>\n    <tr>\n      <th>81535</th>\n      <td>517</td>\n      <td>34</td>\n      <td>5.0</td>\n      <td>1487954303</td>\n    </tr>\n    <tr>\n      <th>81536</th>\n      <td>517</td>\n      <td>47</td>\n      <td>2.0</td>\n      <td>1487958109</td>\n    </tr>\n    <tr>\n      <th>81537</th>\n      <td>517</td>\n      <td>107</td>\n      <td>1.0</td>\n      <td>1487956132</td>\n    </tr>\n    <tr>\n      <th>81538</th>\n      <td>517</td>\n      <td>110</td>\n      <td>1.5</td>\n      <td>1487953160</td>\n    </tr>\n    <tr>\n      <th>81539</th>\n      <td>517</td>\n      <td>158</td>\n      <td>2.0</td>\n      <td>1487954337</td>\n    </tr>\n    <tr>\n      <th>81540</th>\n      <td>517</td>\n      <td>165</td>\n      <td>2.5</td>\n      <td>1487957639</td>\n    </tr>\n    <tr>\n      <th>81541</th>\n      <td>517</td>\n      <td>260</td>\n      <td>3.5</td>\n      <td>1487957618</td>\n    </tr>\n    <tr>\n      <th>81542</th>\n      <td>517</td>\n      <td>272</td>\n      <td>1.0</td>\n      <td>1488399245</td>\n    </tr>\n    <tr>\n      <th>81543</th>\n      <td>517</td>\n      <td>277</td>\n      <td>5.0</td>\n      <td>1487955694</td>\n    </tr>\n    <tr>\n      <th>81544</th>\n      <td>517</td>\n      <td>318</td>\n      <td>4.0</td>\n      <td>1487952883</td>\n    </tr>\n    <tr>\n      <th>81545</th>\n      <td>517</td>\n      <td>344</td>\n      <td>2.5</td>\n      <td>1487966186</td>\n    </tr>\n    <tr>\n      <th>81546</th>\n      <td>517</td>\n      <td>349</td>\n      <td>2.5</td>\n      <td>1487957701</td>\n    </tr>\n    <tr>\n      <th>81547</th>\n      <td>517</td>\n      <td>355</td>\n      <td>2.0</td>\n      <td>1487955690</td>\n    </tr>\n    <tr>\n      <th>81548</th>\n      <td>517</td>\n      <td>356</td>\n      <td>3.5</td>\n      <td>1487953018</td>\n    </tr>\n    <tr>\n      <th>81549</th>\n      <td>517</td>\n      <td>357</td>\n      <td>5.0</td>\n      <td>1487957199</td>\n    </tr>\n    <tr>\n      <th>81550</th>\n      <td>517</td>\n      <td>362</td>\n      <td>3.5</td>\n      <td>1492338912</td>\n    </tr>\n    <tr>\n      <th>81551</th>\n      <td>517</td>\n      <td>364</td>\n      <td>4.5</td>\n      <td>1487953263</td>\n    </tr>\n    <tr>\n      <th>81552</th>\n      <td>517</td>\n      <td>367</td>\n      <td>3.0</td>\n      <td>1487957222</td>\n    </tr>\n    <tr>\n      <th>81553</th>\n      <td>517</td>\n      <td>368</td>\n      <td>3.0</td>\n      <td>1487957692</td>\n    </tr>\n    <tr>\n      <th>81554</th>\n      <td>517</td>\n      <td>377</td>\n      <td>3.0</td>\n      <td>1487957629</td>\n    </tr>\n    <tr>\n      <th>81555</th>\n      <td>517</td>\n      <td>410</td>\n      <td>1.0</td>\n      <td>1492339212</td>\n    </tr>\n    <tr>\n      <th>81556</th>\n      <td>517</td>\n      <td>455</td>\n      <td>1.5</td>\n      <td>1487954445</td>\n    </tr>\n    <tr>\n      <th>81557</th>\n      <td>517</td>\n      <td>457</td>\n      <td>2.5</td>\n      <td>1487957605</td>\n    </tr>\n    <tr>\n      <th>81558</th>\n      <td>517</td>\n      <td>480</td>\n      <td>1.0</td>\n      <td>1487962661</td>\n    </tr>\n    <tr>\n      <th>81559</th>\n      <td>517</td>\n      <td>491</td>\n      <td>1.0</td>\n      <td>1492338923</td>\n    </tr>\n    <tr>\n      <th>81560</th>\n      <td>517</td>\n      <td>500</td>\n      <td>5.0</td>\n      <td>1487953262</td>\n    </tr>\n    <tr>\n      <th>...</th>\n      <td>...</td>\n      <td>...</td>\n      <td>...</td>\n      <td>...</td>\n    </tr>\n    <tr>\n      <th>81901</th>\n      <td>517</td>\n      <td>96471</td>\n      <td>3.0</td>\n      <td>1487958330</td>\n    </tr>\n    <tr>\n      <th>81902</th>\n      <td>517</td>\n      <td>96518</td>\n      <td>3.0</td>\n      <td>1487958294</td>\n    </tr>\n    <tr>\n      <th>81903</th>\n      <td>517</td>\n      <td>96520</td>\n      <td>2.0</td>\n      <td>1492339487</td>\n    </tr>\n    <tr>\n      <th>81904</th>\n      <td>517</td>\n      <td>97194</td>\n      <td>1.0</td>\n      <td>1492338967</td>\n    </tr>\n    <tr>\n      <th>81905</th>\n      <td>517</td>\n      <td>97938</td>\n      <td>1.0</td>\n      <td>1488398134</td>\n    </tr>\n    <tr>\n      <th>81906</th>\n      <td>517</td>\n      <td>101577</td>\n      <td>0.5</td>\n      <td>1487957195</td>\n    </tr>\n    <tr>\n      <th>81907</th>\n      <td>517</td>\n      <td>102407</td>\n      <td>3.0</td>\n      <td>1487953546</td>\n    </tr>\n    <tr>\n      <th>81908</th>\n      <td>517</td>\n      <td>105504</td>\n      <td>3.0</td>\n      <td>1487953575</td>\n    </tr>\n    <tr>\n      <th>81909</th>\n      <td>517</td>\n      <td>106438</td>\n      <td>2.0</td>\n      <td>1487962947</td>\n    </tr>\n    <tr>\n      <th>81910</th>\n      <td>517</td>\n      <td>106696</td>\n      <td>1.0</td>\n      <td>1487955739</td>\n    </tr>\n    <tr>\n      <th>81911</th>\n      <td>517</td>\n      <td>107780</td>\n      <td>4.0</td>\n      <td>1487958433</td>\n    </tr>\n    <tr>\n      <th>81912</th>\n      <td>517</td>\n      <td>109846</td>\n      <td>1.0</td>\n      <td>1487956005</td>\n    </tr>\n    <tr>\n      <th>81913</th>\n      <td>517</td>\n      <td>116797</td>\n      <td>4.0</td>\n      <td>1492338957</td>\n    </tr>\n    <tr>\n      <th>81914</th>\n      <td>517</td>\n      <td>119155</td>\n      <td>3.0</td>\n      <td>1487956776</td>\n    </tr>\n    <tr>\n      <th>81915</th>\n      <td>517</td>\n      <td>121099</td>\n      <td>2.5</td>\n      <td>1492339389</td>\n    </tr>\n    <tr>\n      <th>81916</th>\n      <td>517</td>\n      <td>131656</td>\n      <td>2.5</td>\n      <td>1487956081</td>\n    </tr>\n    <tr>\n      <th>81917</th>\n      <td>517</td>\n      <td>135143</td>\n      <td>3.5</td>\n      <td>1487966240</td>\n    </tr>\n    <tr>\n      <th>81918</th>\n      <td>517</td>\n      <td>136020</td>\n      <td>1.0</td>\n      <td>1487958095</td>\n    </tr>\n    <tr>\n      <th>81919</th>\n      <td>517</td>\n      <td>137857</td>\n      <td>5.0</td>\n      <td>1487953582</td>\n    </tr>\n    <tr>\n      <th>81920</th>\n      <td>517</td>\n      <td>140359</td>\n      <td>3.0</td>\n      <td>1487956029</td>\n    </tr>\n    <tr>\n      <th>81921</th>\n      <td>517</td>\n      <td>144352</td>\n      <td>0.5</td>\n      <td>1487958277</td>\n    </tr>\n    <tr>\n      <th>81922</th>\n      <td>517</td>\n      <td>147378</td>\n      <td>1.0</td>\n      <td>1487956099</td>\n    </tr>\n    <tr>\n      <th>81923</th>\n      <td>517</td>\n      <td>147380</td>\n      <td>1.0</td>\n      <td>1487956112</td>\n    </tr>\n    <tr>\n      <th>81924</th>\n      <td>517</td>\n      <td>152037</td>\n      <td>1.0</td>\n      <td>1487958429</td>\n    </tr>\n    <tr>\n      <th>81925</th>\n      <td>517</td>\n      <td>160422</td>\n      <td>3.0</td>\n      <td>1487958624</td>\n    </tr>\n    <tr>\n      <th>81926</th>\n      <td>517</td>\n      <td>160980</td>\n      <td>2.5</td>\n      <td>1488101314</td>\n    </tr>\n    <tr>\n      <th>81927</th>\n      <td>517</td>\n      <td>162590</td>\n      <td>1.0</td>\n      <td>1487966316</td>\n    </tr>\n    <tr>\n      <th>81928</th>\n      <td>517</td>\n      <td>164909</td>\n      <td>1.0</td>\n      <td>1487953651</td>\n    </tr>\n    <tr>\n      <th>81929</th>\n      <td>517</td>\n      <td>165489</td>\n      <td>2.5</td>\n      <td>1487958674</td>\n    </tr>\n    <tr>\n      <th>81930</th>\n      <td>517</td>\n      <td>167746</td>\n      <td>1.0</td>\n      <td>1492339167</td>\n    </tr>\n  </tbody>\n</table>\n<p>400 rows × 4 columns</p>\n</div>",
            "text/plain": "       userId  movieId  rating   timestamp\n81531     517        1     4.0  1487954343\n81532     517        2     3.0  1487954340\n81533     517       10     0.5  1487957717\n81534     517       17     0.5  1487953834\n81535     517       34     5.0  1487954303\n81536     517       47     2.0  1487958109\n81537     517      107     1.0  1487956132\n81538     517      110     1.5  1487953160\n81539     517      158     2.0  1487954337\n81540     517      165     2.5  1487957639\n81541     517      260     3.5  1487957618\n81542     517      272     1.0  1488399245\n81543     517      277     5.0  1487955694\n81544     517      318     4.0  1487952883\n81545     517      344     2.5  1487966186\n81546     517      349     2.5  1487957701\n81547     517      355     2.0  1487955690\n81548     517      356     3.5  1487953018\n81549     517      357     5.0  1487957199\n81550     517      362     3.5  1492338912\n81551     517      364     4.5  1487953263\n81552     517      367     3.0  1487957222\n81553     517      368     3.0  1487957692\n81554     517      377     3.0  1487957629\n81555     517      410     1.0  1492339212\n81556     517      455     1.5  1487954445\n81557     517      457     2.5  1487957605\n81558     517      480     1.0  1487962661\n81559     517      491     1.0  1492338923\n81560     517      500     5.0  1487953262\n...       ...      ...     ...         ...\n81901     517    96471     3.0  1487958330\n81902     517    96518     3.0  1487958294\n81903     517    96520     2.0  1492339487\n81904     517    97194     1.0  1492338967\n81905     517    97938     1.0  1488398134\n81906     517   101577     0.5  1487957195\n81907     517   102407     3.0  1487953546\n81908     517   105504     3.0  1487953575\n81909     517   106438     2.0  1487962947\n81910     517   106696     1.0  1487955739\n81911     517   107780     4.0  1487958433\n81912     517   109846     1.0  1487956005\n81913     517   116797     4.0  1492338957\n81914     517   119155     3.0  1487956776\n81915     517   121099     2.5  1492339389\n81916     517   131656     2.5  1487956081\n81917     517   135143     3.5  1487966240\n81918     517   136020     1.0  1487958095\n81919     517   137857     5.0  1487953582\n81920     517   140359     3.0  1487956029\n81921     517   144352     0.5  1487958277\n81922     517   147378     1.0  1487956099\n81923     517   147380     1.0  1487956112\n81924     517   152037     1.0  1487958429\n81925     517   160422     3.0  1487958624\n81926     517   160980     2.5  1488101314\n81927     517   162590     1.0  1487966316\n81928     517   164909     1.0  1487953651\n81929     517   165489     2.5  1487958674\n81930     517   167746     1.0  1492339167\n\n[400 rows x 4 columns]"
          },
          "metadata": {}
        }
      ]
    },
    {
      "metadata": {
        "trusted": true,
        "scrolled": true
      },
      "cell_type": "code",
      "source": "ratings.loc[ratings['userId'] == int(ratings_of_frozen[ratings_of_frozen.rating == 1]['userId']), 'rating']",
      "execution_count": 53,
      "outputs": [
        {
          "output_type": "execute_result",
          "execution_count": 53,
          "data": {
            "text/plain": "81531    4.0\n81532    3.0\n81533    0.5\n81534    0.5\n81535    5.0\n81536    2.0\n81537    1.0\n81538    1.5\n81539    2.0\n81540    2.5\n81541    3.5\n81542    1.0\n81543    5.0\n81544    4.0\n81545    2.5\n81546    2.5\n81547    2.0\n81548    3.5\n81549    5.0\n81550    3.5\n81551    4.5\n81552    3.0\n81553    3.0\n81554    3.0\n81555    1.0\n81556    1.5\n81557    2.5\n81558    1.0\n81559    1.0\n81560    5.0\n        ... \n81901    3.0\n81902    3.0\n81903    2.0\n81904    1.0\n81905    1.0\n81906    0.5\n81907    3.0\n81908    3.0\n81909    2.0\n81910    1.0\n81911    4.0\n81912    1.0\n81913    4.0\n81914    3.0\n81915    2.5\n81916    2.5\n81917    3.5\n81918    1.0\n81919    5.0\n81920    3.0\n81921    0.5\n81922    1.0\n81923    1.0\n81924    1.0\n81925    3.0\n81926    2.5\n81927    1.0\n81928    1.0\n81929    2.5\n81930    1.0\nName: rating, Length: 400, dtype: float64"
          },
          "metadata": {}
        }
      ]
    },
    {
      "metadata": {},
      "cell_type": "markdown",
      "source": "* 전체 rating에 비해"
    },
    {
      "metadata": {
        "trusted": true,
        "scrolled": true
      },
      "cell_type": "code",
      "source": "ratings['rating'].hist()",
      "execution_count": 59,
      "outputs": [
        {
          "output_type": "execute_result",
          "execution_count": 59,
          "data": {
            "text/plain": "<matplotlib.axes._subplots.AxesSubplot at 0x7f9dd232b080>"
          },
          "metadata": {}
        },
        {
          "output_type": "display_data",
          "data": {
            "image/png": "[encoded data removed]",
            "text/plain": "<Figure size 432x288 with 1 Axes>"
          },
          "metadata": {
            "needs_background": "light"
          }
        }
      ]
    },
    {
      "metadata": {},
      "cell_type": "markdown",
      "source": "* 애초에 짜게 점수 주는 사람인 것을 확인할 수 있음."
    },
    {
      "metadata": {
        "trusted": true
      },
      "cell_type": "code",
      "source": "ratings.loc[ratings['userId'] == int(ratings_of_frozen[ratings_of_frozen.rating == 1]['userId']), 'rating'].hist() #",
      "execution_count": 57,
      "outputs": [
        {
          "output_type": "execute_result",
          "execution_count": 57,
          "data": {
            "text/plain": "<matplotlib.axes._subplots.AxesSubplot at 0x7f9dd26f5e48>"
          },
          "metadata": {}
        },
        {
          "output_type": "display_data",
          "data": {
            "image/png": "[encoded data removed]",
            "text/plain": "<Figure size 432x288 with 1 Axes>"
          },
          "metadata": {
            "needs_background": "light"
          }
        }
      ]
    },
    {
      "metadata": {
        "trusted": true
      },
      "cell_type": "code",
      "source": "",
      "execution_count": null,
      "outputs": []
    }
  ],
  "metadata": {
    "kernelspec": {
      "name": "python36",
      "display_name": "Python 3.6",
      "language": "python"
    },
    "language_info": {
      "mimetype": "text/x-python",
      "nbconvert_exporter": "python",
      "name": "python",
      "pygments_lexer": "ipython3",
      "version": "3.6.6",
      "file_extension": ".py",
      "codemirror_mode": {
        "version": 3,
        "name": "ipython"
      }
    }
  },
  "nbformat": 4,
  "nbformat_minor": 2
}