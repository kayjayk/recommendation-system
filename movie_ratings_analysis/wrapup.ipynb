{
  "cells": [
    {
      "metadata": {
        "trusted": true
      },
      "cell_type": "code",
      "source": "%matplotlib inline\nimport pandas as pd\nimport numpy as np\nimport matplotlib.pyplot as plt\nimport seaborn as sns\nfrom sklearn.linear_model import Lasso",
      "execution_count": 55,
      "outputs": []
    },
    {
      "metadata": {
        "trusted": true
      },
      "cell_type": "code",
      "source": "my_ratings = pd.read_csv('../data/ml-latest-small/my-ratings.csv')\nmovies = pd.read_csv('../data/ml-latest-small/movies.csv')\ngenres = pd.read_pickle('../data/ml-latest-small/genres.p')",
      "execution_count": 3,
      "outputs": []
    },
    {
      "metadata": {
        "trusted": true
      },
      "cell_type": "code",
      "source": "my_ratings.shape",
      "execution_count": 4,
      "outputs": [
        {
          "output_type": "execute_result",
          "execution_count": 4,
          "data": {
            "text/plain": "(12, 4)"
          },
          "metadata": {}
        }
      ]
    },
    {
      "metadata": {
        "trusted": true
      },
      "cell_type": "code",
      "source": "my_ratings['userId'].value_counts()",
      "execution_count": 5,
      "outputs": [
        {
          "output_type": "execute_result",
          "execution_count": 5,
          "data": {
            "text/plain": "1000    12\nName: userId, dtype: int64"
          },
          "metadata": {}
        }
      ]
    },
    {
      "metadata": {
        "trusted": true,
        "scrolled": true
      },
      "cell_type": "code",
      "source": "my_ratings = my_ratings.merge(movies, on='movieId').merge(genres, left_on='movieId', right_index=True)",
      "execution_count": 20,
      "outputs": []
    },
    {
      "metadata": {
        "trusted": true
      },
      "cell_type": "code",
      "source": "user1000 = my_ratings[my_ratings['userId'] == 1000]",
      "execution_count": 21,
      "outputs": []
    },
    {
      "metadata": {
        "trusted": true
      },
      "cell_type": "code",
      "source": "user1000['rating'].hist()",
      "execution_count": 22,
      "outputs": [
        {
          "output_type": "execute_result",
          "execution_count": 22,
          "data": {
            "text/plain": "<matplotlib.axes._subplots.AxesSubplot at 0x7f7faa8566d8>"
          },
          "metadata": {}
        },
        {
          "output_type": "display_data",
          "data": {
            "image/png": "[encoded data removed]",
            "text/plain": "<Figure size 432x288 with 1 Axes>"
          },
          "metadata": {
            "needs_background": "light"
          }
        }
      ]
    },
    {
      "metadata": {
        "trusted": true
      },
      "cell_type": "code",
      "source": "user1000['rating'].describe()",
      "execution_count": 23,
      "outputs": [
        {
          "output_type": "execute_result",
          "execution_count": 23,
          "data": {
            "text/plain": "count    12.000000\nmean      4.083333\nstd       1.144817\nmin       2.000000\n25%       3.750000\n50%       4.500000\n75%       5.000000\nmax       5.000000\nName: rating, dtype: float64"
          },
          "metadata": {}
        }
      ]
    },
    {
      "metadata": {
        "trusted": true
      },
      "cell_type": "code",
      "source": "user1000[user1000['rating'] == 5.0]",
      "execution_count": 24,
      "outputs": [
        {
          "output_type": "execute_result",
          "execution_count": 24,
          "data": {
            "text/html": "<div>\n<style scoped>\n    .dataframe tbody tr th:only-of-type {\n        vertical-align: middle;\n    }\n\n    .dataframe tbody tr th {\n        vertical-align: top;\n    }\n\n    .dataframe thead th {\n        text-align: right;\n    }\n</style>\n<table border=\"1\" class=\"dataframe\">\n  <thead>\n    <tr style=\"text-align: right;\">\n      <th></th>\n      <th>userId</th>\n      <th>movieId</th>\n      <th>rating</th>\n      <th>timestamp</th>\n      <th>title</th>\n      <th>genres</th>\n      <th>(no genres listed)</th>\n      <th>Action</th>\n      <th>Adventure</th>\n      <th>Animation</th>\n      <th>...</th>\n      <th>Film-Noir</th>\n      <th>Horror</th>\n      <th>IMAX</th>\n      <th>Musical</th>\n      <th>Mystery</th>\n      <th>Romance</th>\n      <th>Sci-Fi</th>\n      <th>Thriller</th>\n      <th>War</th>\n      <th>Western</th>\n    </tr>\n  </thead>\n  <tbody>\n    <tr>\n      <th>0</th>\n      <td>1000</td>\n      <td>168250</td>\n      <td>5.0</td>\n      <td>2020-06-13 22:09:34</td>\n      <td>Get Out (2017)</td>\n      <td>Horror</td>\n      <td>0</td>\n      <td>0</td>\n      <td>0</td>\n      <td>0</td>\n      <td>...</td>\n      <td>0</td>\n      <td>1</td>\n      <td>0</td>\n      <td>0</td>\n      <td>0</td>\n      <td>0</td>\n      <td>0</td>\n      <td>0</td>\n      <td>0</td>\n      <td>0</td>\n    </tr>\n    <tr>\n      <th>3</th>\n      <td>1000</td>\n      <td>164909</td>\n      <td>5.0</td>\n      <td>2020-06-16 22:09:34</td>\n      <td>La La Land (2016)</td>\n      <td>Comedy|Drama|Romance</td>\n      <td>0</td>\n      <td>0</td>\n      <td>0</td>\n      <td>0</td>\n      <td>...</td>\n      <td>0</td>\n      <td>0</td>\n      <td>0</td>\n      <td>0</td>\n      <td>0</td>\n      <td>1</td>\n      <td>0</td>\n      <td>0</td>\n      <td>0</td>\n      <td>0</td>\n    </tr>\n    <tr>\n      <th>4</th>\n      <td>1000</td>\n      <td>104374</td>\n      <td>5.0</td>\n      <td>2020-06-17 22:09:34</td>\n      <td>About Time (2013)</td>\n      <td>Drama|Fantasy|Romance</td>\n      <td>0</td>\n      <td>0</td>\n      <td>0</td>\n      <td>0</td>\n      <td>...</td>\n      <td>0</td>\n      <td>0</td>\n      <td>0</td>\n      <td>0</td>\n      <td>0</td>\n      <td>1</td>\n      <td>0</td>\n      <td>0</td>\n      <td>0</td>\n      <td>0</td>\n    </tr>\n    <tr>\n      <th>5</th>\n      <td>1000</td>\n      <td>156387</td>\n      <td>5.0</td>\n      <td>2020-06-18 22:09:34</td>\n      <td>Sing Street (2016)</td>\n      <td>Drama</td>\n      <td>0</td>\n      <td>0</td>\n      <td>0</td>\n      <td>0</td>\n      <td>...</td>\n      <td>0</td>\n      <td>0</td>\n      <td>0</td>\n      <td>0</td>\n      <td>0</td>\n      <td>0</td>\n      <td>0</td>\n      <td>0</td>\n      <td>0</td>\n      <td>0</td>\n    </tr>\n    <tr>\n      <th>8</th>\n      <td>1000</td>\n      <td>79132</td>\n      <td>5.0</td>\n      <td>2020-06-21 22:09:34</td>\n      <td>Inception (2010)</td>\n      <td>Action|Crime|Drama|Mystery|Sci-Fi|Thriller|IMAX</td>\n      <td>0</td>\n      <td>1</td>\n      <td>0</td>\n      <td>0</td>\n      <td>...</td>\n      <td>0</td>\n      <td>0</td>\n      <td>1</td>\n      <td>0</td>\n      <td>1</td>\n      <td>0</td>\n      <td>1</td>\n      <td>1</td>\n      <td>0</td>\n      <td>0</td>\n    </tr>\n  </tbody>\n</table>\n<p>5 rows × 26 columns</p>\n</div>",
            "text/plain": "   userId  movieId  rating            timestamp               title  \\\n0    1000   168250     5.0  2020-06-13 22:09:34      Get Out (2017)   \n3    1000   164909     5.0  2020-06-16 22:09:34   La La Land (2016)   \n4    1000   104374     5.0  2020-06-17 22:09:34   About Time (2013)   \n5    1000   156387     5.0  2020-06-18 22:09:34  Sing Street (2016)   \n8    1000    79132     5.0  2020-06-21 22:09:34    Inception (2010)   \n\n                                            genres  (no genres listed)  \\\n0                                           Horror                   0   \n3                             Comedy|Drama|Romance                   0   \n4                            Drama|Fantasy|Romance                   0   \n5                                            Drama                   0   \n8  Action|Crime|Drama|Mystery|Sci-Fi|Thriller|IMAX                   0   \n\n   Action  Adventure  Animation   ...     Film-Noir  Horror  IMAX  Musical  \\\n0       0          0          0   ...             0       1     0        0   \n3       0          0          0   ...             0       0     0        0   \n4       0          0          0   ...             0       0     0        0   \n5       0          0          0   ...             0       0     0        0   \n8       1          0          0   ...             0       0     1        0   \n\n   Mystery  Romance  Sci-Fi  Thriller  War  Western  \n0        0        0       0         0    0        0  \n3        0        1       0         0    0        0  \n4        0        1       0         0    0        0  \n5        0        0       0         0    0        0  \n8        1        0       1         1    0        0  \n\n[5 rows x 26 columns]"
          },
          "metadata": {}
        }
      ]
    },
    {
      "metadata": {
        "trusted": true
      },
      "cell_type": "code",
      "source": "user1000[user1000['rating'] == 2.0]",
      "execution_count": 25,
      "outputs": [
        {
          "output_type": "execute_result",
          "execution_count": 25,
          "data": {
            "text/html": "<div>\n<style scoped>\n    .dataframe tbody tr th:only-of-type {\n        vertical-align: middle;\n    }\n\n    .dataframe tbody tr th {\n        vertical-align: top;\n    }\n\n    .dataframe thead th {\n        text-align: right;\n    }\n</style>\n<table border=\"1\" class=\"dataframe\">\n  <thead>\n    <tr style=\"text-align: right;\">\n      <th></th>\n      <th>userId</th>\n      <th>movieId</th>\n      <th>rating</th>\n      <th>timestamp</th>\n      <th>title</th>\n      <th>genres</th>\n      <th>(no genres listed)</th>\n      <th>Action</th>\n      <th>Adventure</th>\n      <th>Animation</th>\n      <th>...</th>\n      <th>Film-Noir</th>\n      <th>Horror</th>\n      <th>IMAX</th>\n      <th>Musical</th>\n      <th>Mystery</th>\n      <th>Romance</th>\n      <th>Sci-Fi</th>\n      <th>Thriller</th>\n      <th>War</th>\n      <th>Western</th>\n    </tr>\n  </thead>\n  <tbody>\n    <tr>\n      <th>1</th>\n      <td>1000</td>\n      <td>106696</td>\n      <td>2.0</td>\n      <td>2020-06-14 22:09:34</td>\n      <td>Frozen (2013)</td>\n      <td>Adventure|Animation|Comedy|Fantasy|Musical|Rom...</td>\n      <td>0</td>\n      <td>0</td>\n      <td>1</td>\n      <td>1</td>\n      <td>...</td>\n      <td>0</td>\n      <td>0</td>\n      <td>0</td>\n      <td>1</td>\n      <td>0</td>\n      <td>1</td>\n      <td>0</td>\n      <td>0</td>\n      <td>0</td>\n      <td>0</td>\n    </tr>\n    <tr>\n      <th>2</th>\n      <td>1000</td>\n      <td>122922</td>\n      <td>2.0</td>\n      <td>2020-06-15 22:09:34</td>\n      <td>Doctor Strange (2016)</td>\n      <td>Action|Adventure|Sci-Fi</td>\n      <td>0</td>\n      <td>1</td>\n      <td>1</td>\n      <td>0</td>\n      <td>...</td>\n      <td>0</td>\n      <td>0</td>\n      <td>0</td>\n      <td>0</td>\n      <td>0</td>\n      <td>0</td>\n      <td>1</td>\n      <td>0</td>\n      <td>0</td>\n      <td>0</td>\n    </tr>\n  </tbody>\n</table>\n<p>2 rows × 26 columns</p>\n</div>",
            "text/plain": "   userId  movieId  rating            timestamp                  title  \\\n1    1000   106696     2.0  2020-06-14 22:09:34          Frozen (2013)   \n2    1000   122922     2.0  2020-06-15 22:09:34  Doctor Strange (2016)   \n\n                                              genres  (no genres listed)  \\\n1  Adventure|Animation|Comedy|Fantasy|Musical|Rom...                   0   \n2                            Action|Adventure|Sci-Fi                   0   \n\n   Action  Adventure  Animation   ...     Film-Noir  Horror  IMAX  Musical  \\\n1       0          1          1   ...             0       0     0        1   \n2       1          1          0   ...             0       0     0        0   \n\n   Mystery  Romance  Sci-Fi  Thriller  War  Western  \n1        0        1       0         0    0        0  \n2        0        0       1         0    0        0  \n\n[2 rows x 26 columns]"
          },
          "metadata": {}
        }
      ]
    },
    {
      "metadata": {},
      "cell_type": "markdown",
      "source": "* 많이 본 genre 찾기"
    },
    {
      "metadata": {
        "trusted": true
      },
      "cell_type": "code",
      "source": "genre_cols = genres.columns",
      "execution_count": 26,
      "outputs": []
    },
    {
      "metadata": {
        "trusted": true
      },
      "cell_type": "code",
      "source": "len(genre_cols)",
      "execution_count": 27,
      "outputs": [
        {
          "output_type": "execute_result",
          "execution_count": 27,
          "data": {
            "text/plain": "20"
          },
          "metadata": {}
        }
      ]
    },
    {
      "metadata": {
        "trusted": true
      },
      "cell_type": "code",
      "source": "genres.columns",
      "execution_count": 28,
      "outputs": [
        {
          "output_type": "execute_result",
          "execution_count": 28,
          "data": {
            "text/plain": "Index(['(no genres listed)', 'Action', 'Adventure', 'Animation', 'Children',\n       'Comedy', 'Crime', 'Documentary', 'Drama', 'Fantasy', 'Film-Noir',\n       'Horror', 'IMAX', 'Musical', 'Mystery', 'Romance', 'Sci-Fi', 'Thriller',\n       'War', 'Western'],\n      dtype='object')"
          },
          "metadata": {}
        }
      ]
    },
    {
      "metadata": {
        "trusted": true
      },
      "cell_type": "code",
      "source": "user1000[genre_cols].sum()",
      "execution_count": 34,
      "outputs": [
        {
          "output_type": "execute_result",
          "execution_count": 34,
          "data": {
            "text/plain": "(no genres listed)    0\nAction                3\nAdventure             2\nAnimation             2\nChildren              1\nComedy                4\nCrime                 1\nDocumentary           0\nDrama                 5\nFantasy               2\nFilm-Noir             0\nHorror                1\nIMAX                  3\nMusical               1\nMystery               2\nRomance               3\nSci-Fi                3\nThriller              2\nWar                   0\nWestern               0\ndtype: int64"
          },
          "metadata": {}
        }
      ]
    },
    {
      "metadata": {},
      "cell_type": "markdown",
      "source": "## Lasso로 user profile 만들기"
    },
    {
      "metadata": {
        "trusted": true
      },
      "cell_type": "code",
      "source": "model = Lasso()\nmodel",
      "execution_count": 38,
      "outputs": [
        {
          "output_type": "execute_result",
          "execution_count": 38,
          "data": {
            "text/plain": "Lasso(alpha=1.0, copy_X=True, fit_intercept=True, max_iter=1000,\n   normalize=False, positive=False, precompute=False, random_state=None,\n   selection='cyclic', tol=0.0001, warm_start=False)"
          },
          "metadata": {}
        }
      ]
    },
    {
      "metadata": {},
      "cell_type": "markdown",
      "source": "### HyperParameter 튜닝"
    },
    {
      "metadata": {},
      "cell_type": "markdown",
      "source": "* Alpha를 어떻게 정할까?"
    },
    {
      "metadata": {
        "trusted": true
      },
      "cell_type": "code",
      "source": "from sklearn.model_selection import RandomizedSearchCV\nfrom scipy.stats import uniform as sp_rand",
      "execution_count": 41,
      "outputs": []
    },
    {
      "metadata": {
        "trusted": true
      },
      "cell_type": "code",
      "source": "param_grid = {'alpha': sp_rand()}\nrsearch = RandomizedSearchCV(estimator=model, param_distributions=param_grid, n_iter=200, cv=4, random_state=42)\nrsearch",
      "execution_count": 46,
      "outputs": [
        {
          "output_type": "execute_result",
          "execution_count": 46,
          "data": {
            "text/plain": "RandomizedSearchCV(cv=4, error_score='raise-deprecating',\n          estimator=Lasso(alpha=1.0, copy_X=True, fit_intercept=True, max_iter=1000,\n   normalize=False, positive=False, precompute=False, random_state=None,\n   selection='cyclic', tol=0.0001, warm_start=False),\n          fit_params=None, iid='warn', n_iter=200, n_jobs=None,\n          param_distributions={'alpha': <scipy.stats._distn_infrastructure.rv_frozen object at 0x7f7fa9dd87f0>},\n          pre_dispatch='2*n_jobs', random_state=42, refit=True,\n          return_train_score='warn', scoring=None, verbose=0)"
          },
          "metadata": {}
        }
      ]
    },
    {
      "metadata": {
        "trusted": true
      },
      "cell_type": "code",
      "source": "rsearch.fit(user1000[genre_cols], user1000['rating'])",
      "execution_count": 47,
      "outputs": [
        {
          "output_type": "execute_result",
          "execution_count": 47,
          "data": {
            "text/plain": "RandomizedSearchCV(cv=4, error_score='raise-deprecating',\n          estimator=Lasso(alpha=1.0, copy_X=True, fit_intercept=True, max_iter=1000,\n   normalize=False, positive=False, precompute=False, random_state=None,\n   selection='cyclic', tol=0.0001, warm_start=False),\n          fit_params=None, iid='warn', n_iter=200, n_jobs=None,\n          param_distributions={'alpha': <scipy.stats._distn_infrastructure.rv_frozen object at 0x7f7fa9dd87f0>},\n          pre_dispatch='2*n_jobs', random_state=42, refit=True,\n          return_train_score='warn', scoring=None, verbose=0)"
          },
          "metadata": {}
        }
      ]
    },
    {
      "metadata": {},
      "cell_type": "markdown",
      "source": "* RandomizedSearch 결과"
    },
    {
      "metadata": {
        "trusted": true
      },
      "cell_type": "code",
      "source": "rsearch.best_estimator_.alpha",
      "execution_count": 49,
      "outputs": [
        {
          "output_type": "execute_result",
          "execution_count": 49,
          "data": {
            "text/plain": "0.25178229582536416"
          },
          "metadata": {}
        }
      ]
    },
    {
      "metadata": {
        "trusted": true
      },
      "cell_type": "code",
      "source": "intercept = rsearch.best_estimator_.intercept_\ncoef = rsearch.best_estimator_.coef_",
      "execution_count": 50,
      "outputs": []
    },
    {
      "metadata": {
        "trusted": true
      },
      "cell_type": "code",
      "source": "user1000_profile = pd.DataFrame([intercept, *coef], index=['intercept', *genre_cols], columns=['score'])\nuser1000_profile",
      "execution_count": 52,
      "outputs": [
        {
          "output_type": "execute_result",
          "execution_count": 52,
          "data": {
            "text/html": "<div>\n<style scoped>\n    .dataframe tbody tr th:only-of-type {\n        vertical-align: middle;\n    }\n\n    .dataframe tbody tr th {\n        vertical-align: top;\n    }\n\n    .dataframe thead th {\n        text-align: right;\n    }\n</style>\n<table border=\"1\" class=\"dataframe\">\n  <thead>\n    <tr style=\"text-align: right;\">\n      <th></th>\n      <th>score</th>\n    </tr>\n  </thead>\n  <tbody>\n    <tr>\n      <th>intercept</th>\n      <td>4.197861</td>\n    </tr>\n    <tr>\n      <th>(no genres listed)</th>\n      <td>0.000000</td>\n    </tr>\n    <tr>\n      <th>Action</th>\n      <td>-0.000000</td>\n    </tr>\n    <tr>\n      <th>Adventure</th>\n      <td>-0.687167</td>\n    </tr>\n    <tr>\n      <th>Animation</th>\n      <td>-0.000000</td>\n    </tr>\n    <tr>\n      <th>Children</th>\n      <td>-0.000000</td>\n    </tr>\n    <tr>\n      <th>Comedy</th>\n      <td>-0.000000</td>\n    </tr>\n    <tr>\n      <th>Crime</th>\n      <td>0.000000</td>\n    </tr>\n    <tr>\n      <th>Documentary</th>\n      <td>0.000000</td>\n    </tr>\n    <tr>\n      <th>Drama</th>\n      <td>0.000000</td>\n    </tr>\n    <tr>\n      <th>Fantasy</th>\n      <td>-0.000000</td>\n    </tr>\n    <tr>\n      <th>Film-Noir</th>\n      <td>0.000000</td>\n    </tr>\n    <tr>\n      <th>Horror</th>\n      <td>0.000000</td>\n    </tr>\n    <tr>\n      <th>IMAX</th>\n      <td>-0.000000</td>\n    </tr>\n    <tr>\n      <th>Musical</th>\n      <td>-0.000000</td>\n    </tr>\n    <tr>\n      <th>Mystery</th>\n      <td>0.000000</td>\n    </tr>\n    <tr>\n      <th>Romance</th>\n      <td>0.000000</td>\n    </tr>\n    <tr>\n      <th>Sci-Fi</th>\n      <td>-0.000000</td>\n    </tr>\n    <tr>\n      <th>Thriller</th>\n      <td>0.000000</td>\n    </tr>\n    <tr>\n      <th>War</th>\n      <td>0.000000</td>\n    </tr>\n    <tr>\n      <th>Western</th>\n      <td>0.000000</td>\n    </tr>\n  </tbody>\n</table>\n</div>",
            "text/plain": "                       score\nintercept           4.197861\n(no genres listed)  0.000000\nAction             -0.000000\nAdventure          -0.687167\nAnimation          -0.000000\nChildren           -0.000000\nComedy             -0.000000\nCrime               0.000000\nDocumentary         0.000000\nDrama               0.000000\nFantasy            -0.000000\nFilm-Noir           0.000000\nHorror              0.000000\nIMAX               -0.000000\nMusical            -0.000000\nMystery             0.000000\nRomance             0.000000\nSci-Fi             -0.000000\nThriller            0.000000\nWar                 0.000000\nWestern             0.000000"
          },
          "metadata": {}
        }
      ]
    },
    {
      "metadata": {
        "trusted": true
      },
      "cell_type": "code",
      "source": "plt.figure(figsize=(25,7))\nsns.barplot(data=user1000_profile.reset_index(), x='index', y='score')",
      "execution_count": 56,
      "outputs": [
        {
          "output_type": "execute_result",
          "execution_count": 56,
          "data": {
            "text/plain": "<matplotlib.axes._subplots.AxesSubplot at 0x7f7fa9d696d8>"
          },
          "metadata": {}
        },
        {
          "output_type": "display_data",
          "data": {
            "image/png": "[encoded data removed]",
            "text/plain": "<Figure size 1800x504 with 1 Axes>"
          },
          "metadata": {
            "needs_background": "light"
          }
        }
      ]
    },
    {
      "metadata": {},
      "cell_type": "markdown",
      "source": "* my data 를 보충해서 나에게 맞는 영화를 추천해보자 to be contiuned...."
    },
    {
      "metadata": {
        "trusted": true
      },
      "cell_type": "code",
      "source": "",
      "execution_count": null,
      "outputs": []
    }
  ],
  "metadata": {
    "kernelspec": {
      "name": "python36",
      "display_name": "Python 3.6",
      "language": "python"
    },
    "language_info": {
      "mimetype": "text/x-python",
      "nbconvert_exporter": "python",
      "name": "python",
      "pygments_lexer": "ipython3",
      "version": "3.6.6",
      "file_extension": ".py",
      "codemirror_mode": {
        "version": 3,
        "name": "ipython"
      }
    }
  },
  "nbformat": 4,
  "nbformat_minor": 2
}