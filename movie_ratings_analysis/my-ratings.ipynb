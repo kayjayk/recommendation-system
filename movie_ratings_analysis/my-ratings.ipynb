{
  "cells": [
    {
      "metadata": {
        "trusted": true
      },
      "cell_type": "code",
      "source": "import pandas as pd",
      "execution_count": 1,
      "outputs": []
    },
    {
      "metadata": {
        "trusted": true
      },
      "cell_type": "code",
      "source": "ratings = pd.read_csv('../data/ml-latest-small/ratings.csv')\nratings.sample()",
      "execution_count": 3,
      "outputs": [
        {
          "output_type": "execute_result",
          "execution_count": 3,
          "data": {
            "text/html": "<div>\n<style scoped>\n    .dataframe tbody tr th:only-of-type {\n        vertical-align: middle;\n    }\n\n    .dataframe tbody tr th {\n        vertical-align: top;\n    }\n\n    .dataframe thead th {\n        text-align: right;\n    }\n</style>\n<table border=\"1\" class=\"dataframe\">\n  <thead>\n    <tr style=\"text-align: right;\">\n      <th></th>\n      <th>userId</th>\n      <th>movieId</th>\n      <th>rating</th>\n      <th>timestamp</th>\n    </tr>\n  </thead>\n  <tbody>\n    <tr>\n      <th>100043</th>\n      <td>610</td>\n      <td>8368</td>\n      <td>4.5</td>\n      <td>1493844901</td>\n    </tr>\n  </tbody>\n</table>\n</div>",
            "text/plain": "        userId  movieId  rating   timestamp\n100043     610     8368     4.5  1493844901"
          },
          "metadata": {}
        }
      ]
    },
    {
      "metadata": {},
      "cell_type": "markdown",
      "source": "### timestamp column 처리"
    },
    {
      "metadata": {
        "trusted": true
      },
      "cell_type": "code",
      "source": "from datetime import datetime",
      "execution_count": 4,
      "outputs": []
    },
    {
      "metadata": {
        "trusted": true
      },
      "cell_type": "code",
      "source": "datetime.fromtimestamp(1654566465)",
      "execution_count": 5,
      "outputs": [
        {
          "output_type": "execute_result",
          "execution_count": 5,
          "data": {
            "text/plain": "datetime.datetime(2022, 6, 7, 1, 47, 45)"
          },
          "metadata": {}
        }
      ]
    },
    {
      "metadata": {
        "trusted": true,
        "scrolled": true
      },
      "cell_type": "code",
      "source": "ratings['timestamp'].apply(lambda x: datetime.fromtimestamp(x))",
      "execution_count": 6,
      "outputs": [
        {
          "output_type": "execute_result",
          "execution_count": 6,
          "data": {
            "text/plain": "0        2000-07-30 18:45:03\n1        2000-07-30 18:20:47\n2        2000-07-30 18:37:04\n3        2000-07-30 19:03:35\n4        2000-07-30 18:48:51\n5        2000-07-30 18:40:00\n6        2000-07-30 18:14:28\n7        2000-07-30 18:36:16\n8        2000-07-30 19:07:21\n9        2000-07-30 19:08:20\n10       2000-07-30 19:00:50\n11       2000-07-30 18:20:08\n12       2000-07-30 18:16:25\n13       2000-07-30 18:19:39\n14       2000-07-30 18:15:08\n15       2000-07-30 18:28:00\n16       2000-07-30 18:49:27\n17       2000-07-30 18:38:30\n18       2000-07-30 18:19:39\n19       2000-07-30 18:42:43\n20       2000-07-30 18:16:02\n21       2000-07-30 18:43:08\n22       2000-07-30 18:28:30\n23       2000-07-30 18:39:23\n24       2000-07-30 18:14:28\n25       2000-07-30 18:31:49\n26       2000-07-30 18:39:06\n27       2000-07-30 18:20:08\n28       2000-07-30 19:06:42\n29       2000-07-30 18:19:39\n                 ...        \n100806   2016-11-19 08:13:30\n100807   2017-05-03 21:10:17\n100808   2017-05-03 21:21:43\n100809   2017-05-03 22:00:41\n100810   2017-05-03 21:54:16\n100811   2016-11-19 08:07:11\n100812   2017-05-03 21:54:04\n100813   2017-05-03 21:22:43\n100814   2016-11-19 08:46:59\n100815   2016-11-19 08:01:31\n100816   2017-05-03 21:47:04\n100817   2017-05-03 22:02:27\n100818   2017-05-03 21:41:44\n100819   2017-05-03 21:47:11\n100820   2016-11-19 08:55:49\n100821   2016-11-19 08:43:18\n100822   2017-05-03 21:55:37\n100823   2017-05-03 20:53:14\n100824   2017-05-03 21:42:39\n100825   2017-05-03 21:52:42\n100826   2017-05-03 22:19:31\n100827   2017-05-03 21:59:49\n100828   2017-05-03 22:22:35\n100829   2017-05-03 21:07:11\n100830   2017-05-04 06:29:25\n100831   2017-05-03 21:53:22\n100832   2017-05-03 22:21:31\n100833   2017-05-08 19:50:47\n100834   2017-05-03 21:19:12\n100835   2017-05-03 21:20:15\nName: timestamp, Length: 100836, dtype: datetime64[ns]"
          },
          "metadata": {}
        }
      ]
    },
    {
      "metadata": {
        "trusted": true
      },
      "cell_type": "code",
      "source": "ratings['timestamp'] = ratings['timestamp'].apply(lambda x: datetime.fromtimestamp(x))",
      "execution_count": 7,
      "outputs": []
    },
    {
      "metadata": {
        "trusted": true,
        "scrolled": true
      },
      "cell_type": "code",
      "source": "ratings",
      "execution_count": 8,
      "outputs": [
        {
          "output_type": "execute_result",
          "execution_count": 8,
          "data": {
            "text/html": "<div>\n<style scoped>\n    .dataframe tbody tr th:only-of-type {\n        vertical-align: middle;\n    }\n\n    .dataframe tbody tr th {\n        vertical-align: top;\n    }\n\n    .dataframe thead th {\n        text-align: right;\n    }\n</style>\n<table border=\"1\" class=\"dataframe\">\n  <thead>\n    <tr style=\"text-align: right;\">\n      <th></th>\n      <th>userId</th>\n      <th>movieId</th>\n      <th>rating</th>\n      <th>timestamp</th>\n    </tr>\n  </thead>\n  <tbody>\n    <tr>\n      <th>0</th>\n      <td>1</td>\n      <td>1</td>\n      <td>4.0</td>\n      <td>2000-07-30 18:45:03</td>\n    </tr>\n    <tr>\n      <th>1</th>\n      <td>1</td>\n      <td>3</td>\n      <td>4.0</td>\n      <td>2000-07-30 18:20:47</td>\n    </tr>\n    <tr>\n      <th>2</th>\n      <td>1</td>\n      <td>6</td>\n      <td>4.0</td>\n      <td>2000-07-30 18:37:04</td>\n    </tr>\n    <tr>\n      <th>3</th>\n      <td>1</td>\n      <td>47</td>\n      <td>5.0</td>\n      <td>2000-07-30 19:03:35</td>\n    </tr>\n    <tr>\n      <th>4</th>\n      <td>1</td>\n      <td>50</td>\n      <td>5.0</td>\n      <td>2000-07-30 18:48:51</td>\n    </tr>\n    <tr>\n      <th>5</th>\n      <td>1</td>\n      <td>70</td>\n      <td>3.0</td>\n      <td>2000-07-30 18:40:00</td>\n    </tr>\n    <tr>\n      <th>6</th>\n      <td>1</td>\n      <td>101</td>\n      <td>5.0</td>\n      <td>2000-07-30 18:14:28</td>\n    </tr>\n    <tr>\n      <th>7</th>\n      <td>1</td>\n      <td>110</td>\n      <td>4.0</td>\n      <td>2000-07-30 18:36:16</td>\n    </tr>\n    <tr>\n      <th>8</th>\n      <td>1</td>\n      <td>151</td>\n      <td>5.0</td>\n      <td>2000-07-30 19:07:21</td>\n    </tr>\n    <tr>\n      <th>9</th>\n      <td>1</td>\n      <td>157</td>\n      <td>5.0</td>\n      <td>2000-07-30 19:08:20</td>\n    </tr>\n    <tr>\n      <th>10</th>\n      <td>1</td>\n      <td>163</td>\n      <td>5.0</td>\n      <td>2000-07-30 19:00:50</td>\n    </tr>\n    <tr>\n      <th>11</th>\n      <td>1</td>\n      <td>216</td>\n      <td>5.0</td>\n      <td>2000-07-30 18:20:08</td>\n    </tr>\n    <tr>\n      <th>12</th>\n      <td>1</td>\n      <td>223</td>\n      <td>3.0</td>\n      <td>2000-07-30 18:16:25</td>\n    </tr>\n    <tr>\n      <th>13</th>\n      <td>1</td>\n      <td>231</td>\n      <td>5.0</td>\n      <td>2000-07-30 18:19:39</td>\n    </tr>\n    <tr>\n      <th>14</th>\n      <td>1</td>\n      <td>235</td>\n      <td>4.0</td>\n      <td>2000-07-30 18:15:08</td>\n    </tr>\n    <tr>\n      <th>15</th>\n      <td>1</td>\n      <td>260</td>\n      <td>5.0</td>\n      <td>2000-07-30 18:28:00</td>\n    </tr>\n    <tr>\n      <th>16</th>\n      <td>1</td>\n      <td>296</td>\n      <td>3.0</td>\n      <td>2000-07-30 18:49:27</td>\n    </tr>\n    <tr>\n      <th>17</th>\n      <td>1</td>\n      <td>316</td>\n      <td>3.0</td>\n      <td>2000-07-30 18:38:30</td>\n    </tr>\n    <tr>\n      <th>18</th>\n      <td>1</td>\n      <td>333</td>\n      <td>5.0</td>\n      <td>2000-07-30 18:19:39</td>\n    </tr>\n    <tr>\n      <th>19</th>\n      <td>1</td>\n      <td>349</td>\n      <td>4.0</td>\n      <td>2000-07-30 18:42:43</td>\n    </tr>\n    <tr>\n      <th>20</th>\n      <td>1</td>\n      <td>356</td>\n      <td>4.0</td>\n      <td>2000-07-30 18:16:02</td>\n    </tr>\n    <tr>\n      <th>21</th>\n      <td>1</td>\n      <td>362</td>\n      <td>5.0</td>\n      <td>2000-07-30 18:43:08</td>\n    </tr>\n    <tr>\n      <th>22</th>\n      <td>1</td>\n      <td>367</td>\n      <td>4.0</td>\n      <td>2000-07-30 18:28:30</td>\n    </tr>\n    <tr>\n      <th>23</th>\n      <td>1</td>\n      <td>423</td>\n      <td>3.0</td>\n      <td>2000-07-30 18:39:23</td>\n    </tr>\n    <tr>\n      <th>24</th>\n      <td>1</td>\n      <td>441</td>\n      <td>4.0</td>\n      <td>2000-07-30 18:14:28</td>\n    </tr>\n    <tr>\n      <th>25</th>\n      <td>1</td>\n      <td>457</td>\n      <td>5.0</td>\n      <td>2000-07-30 18:31:49</td>\n    </tr>\n    <tr>\n      <th>26</th>\n      <td>1</td>\n      <td>480</td>\n      <td>4.0</td>\n      <td>2000-07-30 18:39:06</td>\n    </tr>\n    <tr>\n      <th>27</th>\n      <td>1</td>\n      <td>500</td>\n      <td>3.0</td>\n      <td>2000-07-30 18:20:08</td>\n    </tr>\n    <tr>\n      <th>28</th>\n      <td>1</td>\n      <td>527</td>\n      <td>5.0</td>\n      <td>2000-07-30 19:06:42</td>\n    </tr>\n    <tr>\n      <th>29</th>\n      <td>1</td>\n      <td>543</td>\n      <td>4.0</td>\n      <td>2000-07-30 18:19:39</td>\n    </tr>\n    <tr>\n      <th>...</th>\n      <td>...</td>\n      <td>...</td>\n      <td>...</td>\n      <td>...</td>\n    </tr>\n    <tr>\n      <th>100806</th>\n      <td>610</td>\n      <td>150401</td>\n      <td>3.0</td>\n      <td>2016-11-19 08:13:30</td>\n    </tr>\n    <tr>\n      <th>100807</th>\n      <td>610</td>\n      <td>152077</td>\n      <td>4.0</td>\n      <td>2017-05-03 21:10:17</td>\n    </tr>\n    <tr>\n      <th>100808</th>\n      <td>610</td>\n      <td>152081</td>\n      <td>4.0</td>\n      <td>2017-05-03 21:21:43</td>\n    </tr>\n    <tr>\n      <th>100809</th>\n      <td>610</td>\n      <td>152372</td>\n      <td>3.5</td>\n      <td>2017-05-03 22:00:41</td>\n    </tr>\n    <tr>\n      <th>100810</th>\n      <td>610</td>\n      <td>155064</td>\n      <td>3.5</td>\n      <td>2017-05-03 21:54:16</td>\n    </tr>\n    <tr>\n      <th>100811</th>\n      <td>610</td>\n      <td>156371</td>\n      <td>5.0</td>\n      <td>2016-11-19 08:07:11</td>\n    </tr>\n    <tr>\n      <th>100812</th>\n      <td>610</td>\n      <td>156726</td>\n      <td>4.5</td>\n      <td>2017-05-03 21:54:04</td>\n    </tr>\n    <tr>\n      <th>100813</th>\n      <td>610</td>\n      <td>157296</td>\n      <td>4.0</td>\n      <td>2017-05-03 21:22:43</td>\n    </tr>\n    <tr>\n      <th>100814</th>\n      <td>610</td>\n      <td>158238</td>\n      <td>5.0</td>\n      <td>2016-11-19 08:46:59</td>\n    </tr>\n    <tr>\n      <th>100815</th>\n      <td>610</td>\n      <td>158721</td>\n      <td>3.5</td>\n      <td>2016-11-19 08:01:31</td>\n    </tr>\n    <tr>\n      <th>100816</th>\n      <td>610</td>\n      <td>158872</td>\n      <td>3.5</td>\n      <td>2017-05-03 21:47:04</td>\n    </tr>\n    <tr>\n      <th>100817</th>\n      <td>610</td>\n      <td>158956</td>\n      <td>3.0</td>\n      <td>2017-05-03 22:02:27</td>\n    </tr>\n    <tr>\n      <th>100818</th>\n      <td>610</td>\n      <td>159093</td>\n      <td>3.0</td>\n      <td>2017-05-03 21:41:44</td>\n    </tr>\n    <tr>\n      <th>100819</th>\n      <td>610</td>\n      <td>160080</td>\n      <td>3.0</td>\n      <td>2017-05-03 21:47:11</td>\n    </tr>\n    <tr>\n      <th>100820</th>\n      <td>610</td>\n      <td>160341</td>\n      <td>2.5</td>\n      <td>2016-11-19 08:55:49</td>\n    </tr>\n    <tr>\n      <th>100821</th>\n      <td>610</td>\n      <td>160527</td>\n      <td>4.5</td>\n      <td>2016-11-19 08:43:18</td>\n    </tr>\n    <tr>\n      <th>100822</th>\n      <td>610</td>\n      <td>160571</td>\n      <td>3.0</td>\n      <td>2017-05-03 21:55:37</td>\n    </tr>\n    <tr>\n      <th>100823</th>\n      <td>610</td>\n      <td>160836</td>\n      <td>3.0</td>\n      <td>2017-05-03 20:53:14</td>\n    </tr>\n    <tr>\n      <th>100824</th>\n      <td>610</td>\n      <td>161582</td>\n      <td>4.0</td>\n      <td>2017-05-03 21:42:39</td>\n    </tr>\n    <tr>\n      <th>100825</th>\n      <td>610</td>\n      <td>161634</td>\n      <td>4.0</td>\n      <td>2017-05-03 21:52:42</td>\n    </tr>\n    <tr>\n      <th>100826</th>\n      <td>610</td>\n      <td>162350</td>\n      <td>3.5</td>\n      <td>2017-05-03 22:19:31</td>\n    </tr>\n    <tr>\n      <th>100827</th>\n      <td>610</td>\n      <td>163937</td>\n      <td>3.5</td>\n      <td>2017-05-03 21:59:49</td>\n    </tr>\n    <tr>\n      <th>100828</th>\n      <td>610</td>\n      <td>163981</td>\n      <td>3.5</td>\n      <td>2017-05-03 22:22:35</td>\n    </tr>\n    <tr>\n      <th>100829</th>\n      <td>610</td>\n      <td>164179</td>\n      <td>5.0</td>\n      <td>2017-05-03 21:07:11</td>\n    </tr>\n    <tr>\n      <th>100830</th>\n      <td>610</td>\n      <td>166528</td>\n      <td>4.0</td>\n      <td>2017-05-04 06:29:25</td>\n    </tr>\n    <tr>\n      <th>100831</th>\n      <td>610</td>\n      <td>166534</td>\n      <td>4.0</td>\n      <td>2017-05-03 21:53:22</td>\n    </tr>\n    <tr>\n      <th>100832</th>\n      <td>610</td>\n      <td>168248</td>\n      <td>5.0</td>\n      <td>2017-05-03 22:21:31</td>\n    </tr>\n    <tr>\n      <th>100833</th>\n      <td>610</td>\n      <td>168250</td>\n      <td>5.0</td>\n      <td>2017-05-08 19:50:47</td>\n    </tr>\n    <tr>\n      <th>100834</th>\n      <td>610</td>\n      <td>168252</td>\n      <td>5.0</td>\n      <td>2017-05-03 21:19:12</td>\n    </tr>\n    <tr>\n      <th>100835</th>\n      <td>610</td>\n      <td>170875</td>\n      <td>3.0</td>\n      <td>2017-05-03 21:20:15</td>\n    </tr>\n  </tbody>\n</table>\n<p>100836 rows × 4 columns</p>\n</div>",
            "text/plain": "        userId  movieId  rating           timestamp\n0            1        1     4.0 2000-07-30 18:45:03\n1            1        3     4.0 2000-07-30 18:20:47\n2            1        6     4.0 2000-07-30 18:37:04\n3            1       47     5.0 2000-07-30 19:03:35\n4            1       50     5.0 2000-07-30 18:48:51\n5            1       70     3.0 2000-07-30 18:40:00\n6            1      101     5.0 2000-07-30 18:14:28\n7            1      110     4.0 2000-07-30 18:36:16\n8            1      151     5.0 2000-07-30 19:07:21\n9            1      157     5.0 2000-07-30 19:08:20\n10           1      163     5.0 2000-07-30 19:00:50\n11           1      216     5.0 2000-07-30 18:20:08\n12           1      223     3.0 2000-07-30 18:16:25\n13           1      231     5.0 2000-07-30 18:19:39\n14           1      235     4.0 2000-07-30 18:15:08\n15           1      260     5.0 2000-07-30 18:28:00\n16           1      296     3.0 2000-07-30 18:49:27\n17           1      316     3.0 2000-07-30 18:38:30\n18           1      333     5.0 2000-07-30 18:19:39\n19           1      349     4.0 2000-07-30 18:42:43\n20           1      356     4.0 2000-07-30 18:16:02\n21           1      362     5.0 2000-07-30 18:43:08\n22           1      367     4.0 2000-07-30 18:28:30\n23           1      423     3.0 2000-07-30 18:39:23\n24           1      441     4.0 2000-07-30 18:14:28\n25           1      457     5.0 2000-07-30 18:31:49\n26           1      480     4.0 2000-07-30 18:39:06\n27           1      500     3.0 2000-07-30 18:20:08\n28           1      527     5.0 2000-07-30 19:06:42\n29           1      543     4.0 2000-07-30 18:19:39\n...        ...      ...     ...                 ...\n100806     610   150401     3.0 2016-11-19 08:13:30\n100807     610   152077     4.0 2017-05-03 21:10:17\n100808     610   152081     4.0 2017-05-03 21:21:43\n100809     610   152372     3.5 2017-05-03 22:00:41\n100810     610   155064     3.5 2017-05-03 21:54:16\n100811     610   156371     5.0 2016-11-19 08:07:11\n100812     610   156726     4.5 2017-05-03 21:54:04\n100813     610   157296     4.0 2017-05-03 21:22:43\n100814     610   158238     5.0 2016-11-19 08:46:59\n100815     610   158721     3.5 2016-11-19 08:01:31\n100816     610   158872     3.5 2017-05-03 21:47:04\n100817     610   158956     3.0 2017-05-03 22:02:27\n100818     610   159093     3.0 2017-05-03 21:41:44\n100819     610   160080     3.0 2017-05-03 21:47:11\n100820     610   160341     2.5 2016-11-19 08:55:49\n100821     610   160527     4.5 2016-11-19 08:43:18\n100822     610   160571     3.0 2017-05-03 21:55:37\n100823     610   160836     3.0 2017-05-03 20:53:14\n100824     610   161582     4.0 2017-05-03 21:42:39\n100825     610   161634     4.0 2017-05-03 21:52:42\n100826     610   162350     3.5 2017-05-03 22:19:31\n100827     610   163937     3.5 2017-05-03 21:59:49\n100828     610   163981     3.5 2017-05-03 22:22:35\n100829     610   164179     5.0 2017-05-03 21:07:11\n100830     610   166528     4.0 2017-05-04 06:29:25\n100831     610   166534     4.0 2017-05-03 21:53:22\n100832     610   168248     5.0 2017-05-03 22:21:31\n100833     610   168250     5.0 2017-05-08 19:50:47\n100834     610   168252     5.0 2017-05-03 21:19:12\n100835     610   170875     3.0 2017-05-03 21:20:15\n\n[100836 rows x 4 columns]"
          },
          "metadata": {}
        }
      ]
    },
    {
      "metadata": {},
      "cell_type": "markdown",
      "source": "## paste my data"
    },
    {
      "metadata": {
        "trusted": true
      },
      "cell_type": "code",
      "source": "my_ratings = pd.read_csv('../data/ml-latest-small/my-ratings.csv')\nmy_ratings",
      "execution_count": 10,
      "outputs": [
        {
          "output_type": "execute_result",
          "execution_count": 10,
          "data": {
            "text/html": "<div>\n<style scoped>\n    .dataframe tbody tr th:only-of-type {\n        vertical-align: middle;\n    }\n\n    .dataframe tbody tr th {\n        vertical-align: top;\n    }\n\n    .dataframe thead th {\n        text-align: right;\n    }\n</style>\n<table border=\"1\" class=\"dataframe\">\n  <thead>\n    <tr style=\"text-align: right;\">\n      <th></th>\n      <th>userId</th>\n      <th>movieId</th>\n      <th>rating</th>\n      <th>timestamp</th>\n    </tr>\n  </thead>\n  <tbody>\n    <tr>\n      <th>0</th>\n      <td>1000</td>\n      <td>168250</td>\n      <td>5.0</td>\n      <td>2020-06-13 22:09:34</td>\n    </tr>\n    <tr>\n      <th>1</th>\n      <td>1000</td>\n      <td>106696</td>\n      <td>2.0</td>\n      <td>2020-06-14 22:09:34</td>\n    </tr>\n    <tr>\n      <th>2</th>\n      <td>1000</td>\n      <td>122922</td>\n      <td>2.0</td>\n      <td>2020-06-15 22:09:34</td>\n    </tr>\n    <tr>\n      <th>3</th>\n      <td>1000</td>\n      <td>164909</td>\n      <td>5.0</td>\n      <td>2020-06-16 22:09:34</td>\n    </tr>\n    <tr>\n      <th>4</th>\n      <td>1000</td>\n      <td>104374</td>\n      <td>5.0</td>\n      <td>2020-06-17 22:09:34</td>\n    </tr>\n    <tr>\n      <th>5</th>\n      <td>1000</td>\n      <td>156387</td>\n      <td>5.0</td>\n      <td>2020-06-18 22:09:34</td>\n    </tr>\n    <tr>\n      <th>6</th>\n      <td>1000</td>\n      <td>27773</td>\n      <td>4.5</td>\n      <td>2020-06-19 22:09:34</td>\n    </tr>\n    <tr>\n      <th>7</th>\n      <td>1000</td>\n      <td>180985</td>\n      <td>4.0</td>\n      <td>2020-06-20 22:09:34</td>\n    </tr>\n    <tr>\n      <th>8</th>\n      <td>1000</td>\n      <td>79132</td>\n      <td>5.0</td>\n      <td>2020-06-21 22:09:34</td>\n    </tr>\n    <tr>\n      <th>9</th>\n      <td>1000</td>\n      <td>109487</td>\n      <td>4.5</td>\n      <td>2020-06-22 22:09:34</td>\n    </tr>\n    <tr>\n      <th>10</th>\n      <td>1000</td>\n      <td>140110</td>\n      <td>4.0</td>\n      <td>2020-06-23 22:09:34</td>\n    </tr>\n    <tr>\n      <th>11</th>\n      <td>1000</td>\n      <td>59784</td>\n      <td>3.0</td>\n      <td>2020-06-24 22:09:34</td>\n    </tr>\n  </tbody>\n</table>\n</div>",
            "text/plain": "    userId  movieId  rating            timestamp\n0     1000   168250     5.0  2020-06-13 22:09:34\n1     1000   106696     2.0  2020-06-14 22:09:34\n2     1000   122922     2.0  2020-06-15 22:09:34\n3     1000   164909     5.0  2020-06-16 22:09:34\n4     1000   104374     5.0  2020-06-17 22:09:34\n5     1000   156387     5.0  2020-06-18 22:09:34\n6     1000    27773     4.5  2020-06-19 22:09:34\n7     1000   180985     4.0  2020-06-20 22:09:34\n8     1000    79132     5.0  2020-06-21 22:09:34\n9     1000   109487     4.5  2020-06-22 22:09:34\n10    1000   140110     4.0  2020-06-23 22:09:34\n11    1000    59784     3.0  2020-06-24 22:09:34"
          },
          "metadata": {}
        }
      ]
    },
    {
      "metadata": {
        "trusted": true
      },
      "cell_type": "code",
      "source": "ratings_concat = pd.concat([ratings, my_ratings])",
      "execution_count": 13,
      "outputs": []
    },
    {
      "metadata": {
        "trusted": true,
        "scrolled": true
      },
      "cell_type": "code",
      "source": "ratings_concat.tail(20)",
      "execution_count": 16,
      "outputs": [
        {
          "output_type": "execute_result",
          "execution_count": 16,
          "data": {
            "text/html": "<div>\n<style scoped>\n    .dataframe tbody tr th:only-of-type {\n        vertical-align: middle;\n    }\n\n    .dataframe tbody tr th {\n        vertical-align: top;\n    }\n\n    .dataframe thead th {\n        text-align: right;\n    }\n</style>\n<table border=\"1\" class=\"dataframe\">\n  <thead>\n    <tr style=\"text-align: right;\">\n      <th></th>\n      <th>userId</th>\n      <th>movieId</th>\n      <th>rating</th>\n      <th>timestamp</th>\n    </tr>\n  </thead>\n  <tbody>\n    <tr>\n      <th>100828</th>\n      <td>610</td>\n      <td>163981</td>\n      <td>3.5</td>\n      <td>2017-05-03 22:22:35</td>\n    </tr>\n    <tr>\n      <th>100829</th>\n      <td>610</td>\n      <td>164179</td>\n      <td>5.0</td>\n      <td>2017-05-03 21:07:11</td>\n    </tr>\n    <tr>\n      <th>100830</th>\n      <td>610</td>\n      <td>166528</td>\n      <td>4.0</td>\n      <td>2017-05-04 06:29:25</td>\n    </tr>\n    <tr>\n      <th>100831</th>\n      <td>610</td>\n      <td>166534</td>\n      <td>4.0</td>\n      <td>2017-05-03 21:53:22</td>\n    </tr>\n    <tr>\n      <th>100832</th>\n      <td>610</td>\n      <td>168248</td>\n      <td>5.0</td>\n      <td>2017-05-03 22:21:31</td>\n    </tr>\n    <tr>\n      <th>100833</th>\n      <td>610</td>\n      <td>168250</td>\n      <td>5.0</td>\n      <td>2017-05-08 19:50:47</td>\n    </tr>\n    <tr>\n      <th>100834</th>\n      <td>610</td>\n      <td>168252</td>\n      <td>5.0</td>\n      <td>2017-05-03 21:19:12</td>\n    </tr>\n    <tr>\n      <th>100835</th>\n      <td>610</td>\n      <td>170875</td>\n      <td>3.0</td>\n      <td>2017-05-03 21:20:15</td>\n    </tr>\n    <tr>\n      <th>0</th>\n      <td>1000</td>\n      <td>168250</td>\n      <td>5.0</td>\n      <td>2020-06-13 22:09:34</td>\n    </tr>\n    <tr>\n      <th>1</th>\n      <td>1000</td>\n      <td>106696</td>\n      <td>2.0</td>\n      <td>2020-06-14 22:09:34</td>\n    </tr>\n    <tr>\n      <th>2</th>\n      <td>1000</td>\n      <td>122922</td>\n      <td>2.0</td>\n      <td>2020-06-15 22:09:34</td>\n    </tr>\n    <tr>\n      <th>3</th>\n      <td>1000</td>\n      <td>164909</td>\n      <td>5.0</td>\n      <td>2020-06-16 22:09:34</td>\n    </tr>\n    <tr>\n      <th>4</th>\n      <td>1000</td>\n      <td>104374</td>\n      <td>5.0</td>\n      <td>2020-06-17 22:09:34</td>\n    </tr>\n    <tr>\n      <th>5</th>\n      <td>1000</td>\n      <td>156387</td>\n      <td>5.0</td>\n      <td>2020-06-18 22:09:34</td>\n    </tr>\n    <tr>\n      <th>6</th>\n      <td>1000</td>\n      <td>27773</td>\n      <td>4.5</td>\n      <td>2020-06-19 22:09:34</td>\n    </tr>\n    <tr>\n      <th>7</th>\n      <td>1000</td>\n      <td>180985</td>\n      <td>4.0</td>\n      <td>2020-06-20 22:09:34</td>\n    </tr>\n    <tr>\n      <th>8</th>\n      <td>1000</td>\n      <td>79132</td>\n      <td>5.0</td>\n      <td>2020-06-21 22:09:34</td>\n    </tr>\n    <tr>\n      <th>9</th>\n      <td>1000</td>\n      <td>109487</td>\n      <td>4.5</td>\n      <td>2020-06-22 22:09:34</td>\n    </tr>\n    <tr>\n      <th>10</th>\n      <td>1000</td>\n      <td>140110</td>\n      <td>4.0</td>\n      <td>2020-06-23 22:09:34</td>\n    </tr>\n    <tr>\n      <th>11</th>\n      <td>1000</td>\n      <td>59784</td>\n      <td>3.0</td>\n      <td>2020-06-24 22:09:34</td>\n    </tr>\n  </tbody>\n</table>\n</div>",
            "text/plain": "        userId  movieId  rating            timestamp\n100828     610   163981     3.5  2017-05-03 22:22:35\n100829     610   164179     5.0  2017-05-03 21:07:11\n100830     610   166528     4.0  2017-05-04 06:29:25\n100831     610   166534     4.0  2017-05-03 21:53:22\n100832     610   168248     5.0  2017-05-03 22:21:31\n100833     610   168250     5.0  2017-05-08 19:50:47\n100834     610   168252     5.0  2017-05-03 21:19:12\n100835     610   170875     3.0  2017-05-03 21:20:15\n0         1000   168250     5.0  2020-06-13 22:09:34\n1         1000   106696     2.0  2020-06-14 22:09:34\n2         1000   122922     2.0  2020-06-15 22:09:34\n3         1000   164909     5.0  2020-06-16 22:09:34\n4         1000   104374     5.0  2020-06-17 22:09:34\n5         1000   156387     5.0  2020-06-18 22:09:34\n6         1000    27773     4.5  2020-06-19 22:09:34\n7         1000   180985     4.0  2020-06-20 22:09:34\n8         1000    79132     5.0  2020-06-21 22:09:34\n9         1000   109487     4.5  2020-06-22 22:09:34\n10        1000   140110     4.0  2020-06-23 22:09:34\n11        1000    59784     3.0  2020-06-24 22:09:34"
          },
          "metadata": {}
        }
      ]
    },
    {
      "metadata": {
        "trusted": true
      },
      "cell_type": "code",
      "source": "ratings_concat.to_pickle('../data/ml-latest-small/ratings_concat.p')",
      "execution_count": 17,
      "outputs": []
    },
    {
      "metadata": {
        "trusted": true
      },
      "cell_type": "code",
      "source": "",
      "execution_count": null,
      "outputs": []
    }
  ],
  "metadata": {
    "kernelspec": {
      "name": "python36",
      "display_name": "Python 3.6",
      "language": "python"
    }
  },
  "nbformat": 4,
  "nbformat_minor": 2
}